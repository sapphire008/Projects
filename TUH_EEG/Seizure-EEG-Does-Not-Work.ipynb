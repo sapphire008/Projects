{
 "cells": [
  {
   "cell_type": "markdown",
   "metadata": {},
   "source": [
    "Analyzing the [Temple Hospital seizure dataset](https://www.isip.piconepress.com/projects/tuh_eeg/html/downloads.shtml) (v1.4.0)"
   ]
  },
  {
   "cell_type": "code",
   "execution_count": 106,
   "metadata": {},
   "outputs": [
    {
     "name": "stdout",
     "output_type": "stream",
     "text": [
      "academic mode\n"
     ]
    }
   ],
   "source": [
    "%run '/Users/edward/Documents/Scripts/Python/init_py.py'\n",
    "sys.path.append('/Volumes/Storage/TUH_EEG/nedc_demo/v0.4.1/src')\n",
    "from nfc.nedc_edf_reader import *\n",
    "import pyedflib\n"
   ]
  },
  {
   "cell_type": "markdown",
   "metadata": {},
   "source": [
    "List all the .edf files"
   ]
  },
  {
   "cell_type": "code",
   "execution_count": 8,
   "metadata": {},
   "outputs": [
    {
     "name": "stdout",
     "output_type": "stream",
     "text": [
      "1215\n",
      "00000077_s003_t000.edf (/Volumes/Storage/TUH_EEG/train/01_tcp_ar/000/00000077/s003_2010_01_21/00000077_s003_t000.edf)\n",
      "00000254_s005_t000.edf (/Volumes/Storage/TUH_EEG/train/01_tcp_ar/002/00000254/s005_2010_11_15/00000254_s005_t000.edf)\n",
      "00000254_s006_t001.edf (/Volumes/Storage/TUH_EEG/train/01_tcp_ar/002/00000254/s006_2011_07_01/00000254_s006_t001.edf)\n",
      "00000254_s007_t000.edf (/Volumes/Storage/TUH_EEG/train/01_tcp_ar/002/00000254/s007_2013_03_25/00000254_s007_t000.edf)\n",
      "00000272_s007_t000.edf (/Volumes/Storage/TUH_EEG/train/01_tcp_ar/002/00000272/s007_2003_07_03/00000272_s007_t000.edf)\n"
     ]
    }
   ],
   "source": [
    "basedir = '/Volumes/Storage/TUH_EEG'\n",
    "P_train, N_train = SearchFiles(os.path.join(basedir, 'train', '01_tcp_ar'), '*/*/*/*.edf')\n",
    "print(len(N_train))\n",
    "for n in range(5):\n",
    "    print(N_train[n], '('+ P_train[n]+ ')')\n"
   ]
  },
  {
   "cell_type": "code",
   "execution_count": null,
   "metadata": {
    "deletable": false,
    "editable": false,
    "run_control": {
     "frozen": true
    }
   },
   "outputs": [],
   "source": [
    "f = pyedflib.EdfReader(\"data/test_generator.edf\")\n",
    "n = f.signals_in_file\n",
    "signal_labels = f.getSignalLabels()\n",
    "sigbufs = np.zeros((n, f.getNSamples()[0]))\n",
    "for i in np.arange(n):\n",
    "    sigbufs[i, :] = f.readSignal(i)"
   ]
  },
  {
   "cell_type": "markdown",
   "metadata": {},
   "source": [
    "## Try to load an example file"
   ]
  },
  {
   "cell_type": "code",
   "execution_count": 102,
   "metadata": {},
   "outputs": [],
   "source": [
    "f = pyedflib.EdfReader(P_train[2])"
   ]
  },
  {
   "cell_type": "code",
   "execution_count": 103,
   "metadata": {},
   "outputs": [
    {
     "name": "stdout",
     "output_type": "stream",
     "text": [
      "file name: /Volumes/Storage/TUH_EEG/train/01_tcp_ar/002/00000254/s006_2011_07_01/00000254_s006_t001.edf\n",
      "signals in file: 36\n",
      "label: EEG FP1-REF fs: 250 nsamples 299250\n",
      "label: EEG FP2-REF fs: 250 nsamples 299250\n",
      "label: EEG F3-REF fs: 250 nsamples 299250\n",
      "label: EEG F4-REF fs: 250 nsamples 299250\n",
      "label: EEG C3-REF fs: 250 nsamples 299250\n",
      "label: EEG C4-REF fs: 250 nsamples 299250\n",
      "label: EEG P3-REF fs: 250 nsamples 299250\n",
      "label: EEG P4-REF fs: 250 nsamples 299250\n",
      "label: EEG O1-REF fs: 250 nsamples 299250\n",
      "label: EEG O2-REF fs: 250 nsamples 299250\n",
      "label: EEG F7-REF fs: 250 nsamples 299250\n",
      "label: EEG F8-REF fs: 250 nsamples 299250\n",
      "label: EEG T3-REF fs: 250 nsamples 299250\n",
      "label: EEG T4-REF fs: 250 nsamples 299250\n",
      "label: EEG T5-REF fs: 250 nsamples 299250\n",
      "label: EEG T6-REF fs: 250 nsamples 299250\n",
      "label: EEG A1-REF fs: 250 nsamples 299250\n",
      "label: EEG A2-REF fs: 250 nsamples 299250\n",
      "label: EEG FZ-REF fs: 250 nsamples 299250\n",
      "label: EEG CZ-REF fs: 250 nsamples 299250\n",
      "label: EEG PZ-REF fs: 250 nsamples 299250\n",
      "label: EEG ROC-REF fs: 250 nsamples 299250\n",
      "label: EEG LOC-REF fs: 250 nsamples 299250\n",
      "label: EEG EKG1-REF fs: 250 nsamples 299250\n",
      "label: EMG-REF fs: 250 nsamples 299250\n",
      "label: EEG 26-REF fs: 250 nsamples 299250\n",
      "label: EEG 27-REF fs: 250 nsamples 299250\n",
      "label: EEG 28-REF fs: 250 nsamples 299250\n",
      "label: EEG 29-REF fs: 250 nsamples 299250\n",
      "label: EEG 30-REF fs: 250 nsamples 299250\n",
      "label: EEG T1-REF fs: 250 nsamples 299250\n",
      "label: EEG T2-REF fs: 250 nsamples 299250\n",
      "label: PHOTIC-REF fs: 250 nsamples 299250\n",
      "label: IBI fs: 1 nsamples 1197\n",
      "label: BURSTS fs: 1 nsamples 1197\n",
      "label: SUPPR fs: 1 nsamples 1197\n"
     ]
    }
   ],
   "source": [
    "f.file_info_long()"
   ]
  },
  {
   "cell_type": "code",
   "execution_count": 104,
   "metadata": {},
   "outputs": [
    {
     "data": {
      "text/plain": [
       "{'label': 'EEG FP2-REF',\n",
       " 'dimension': 'uV',\n",
       " 'sample_rate': 250,\n",
       " 'physical_max': 4999.847,\n",
       " 'physical_min': -4999.84,\n",
       " 'digital_max': 32767,\n",
       " 'digital_min': -32767,\n",
       " 'prefilter': 'HP:0.000 Hz LP:0.0 Hz N:0.0',\n",
       " 'transducer': 'Unknown'}"
      ]
     },
     "execution_count": 104,
     "metadata": {},
     "output_type": "execute_result"
    }
   ],
   "source": [
    "f.getSignalHeader(1)"
   ]
  },
  {
   "cell_type": "code",
   "execution_count": 105,
   "metadata": {},
   "outputs": [
    {
     "name": "stdout",
     "output_type": "stream",
     "text": [
      "read -1, less than 299250 requested!!!\n"
     ]
    },
    {
     "data": {
      "text/plain": [
       "True"
      ]
     },
     "execution_count": 105,
     "metadata": {},
     "output_type": "execute_result"
    }
   ],
   "source": [
    "all(f.readSignal(1)==0)"
   ]
  },
  {
   "cell_type": "code",
   "execution_count": 109,
   "metadata": {},
   "outputs": [
    {
     "name": "stdout",
     "output_type": "stream",
     "text": [
      "/Users/edward/anaconda3/lib/python3.7/site-packages/ipykernel_launcher.py (nfc.nedc_edf_reader: get_header): file not an edf file (/Volumes/Storage/TUH_EEG/train/01_tcp_ar/000/00000077/s003_2010_01_21/00000077_s003_t000.edf)\n"
     ]
    }
   ],
   "source": [
    "return_header(P_train[0])"
   ]
  },
  {
   "cell_type": "code",
   "execution_count": null,
   "metadata": {},
   "outputs": [],
   "source": []
  }
 ],
 "metadata": {
  "kernelspec": {
   "display_name": "Python 3",
   "language": "python",
   "name": "python3"
  },
  "language_info": {
   "codemirror_mode": {
    "name": "ipython",
    "version": 3
   },
   "file_extension": ".py",
   "mimetype": "text/x-python",
   "name": "python",
   "nbconvert_exporter": "python",
   "pygments_lexer": "ipython3",
   "version": "3.7.0"
  },
  "toc": {
   "base_numbering": 1,
   "nav_menu": {},
   "number_sections": false,
   "sideBar": true,
   "skip_h1_title": false,
   "title_cell": "Table of Contents",
   "title_sidebar": "Contents",
   "toc_cell": false,
   "toc_position": {},
   "toc_section_display": true,
   "toc_window_display": false
  },
  "varInspector": {
   "cols": {
    "lenName": 16,
    "lenType": 16,
    "lenVar": 40
   },
   "kernels_config": {
    "python": {
     "delete_cmd_postfix": "",
     "delete_cmd_prefix": "del ",
     "library": "var_list.py",
     "varRefreshCmd": "print(var_dic_list())"
    },
    "r": {
     "delete_cmd_postfix": ") ",
     "delete_cmd_prefix": "rm(",
     "library": "var_list.r",
     "varRefreshCmd": "cat(var_dic_list()) "
    }
   },
   "types_to_exclude": [
    "module",
    "function",
    "builtin_function_or_method",
    "instance",
    "_Feature"
   ],
   "window_display": false
  }
 },
 "nbformat": 4,
 "nbformat_minor": 2
}
