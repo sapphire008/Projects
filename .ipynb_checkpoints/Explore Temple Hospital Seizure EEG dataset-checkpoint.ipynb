{
 "cells": [
  {
   "cell_type": "markdown",
   "metadata": {},
   "source": [
    "# Explore Temple Hospital Seizure EEG dataset\n",
    "\n",
    "Previously, I attempted to load the data with pyedflib, but was unsuccessful. I reimplemented a file parser using Python based on the byte by byte explanation of the .edf file found on their website. Seems to be working pretty well. In the present notebook, I will perform some preliminary analysis of the EEG data, using my previous knowledge, in order to gain some preliminary understanding of the dataset."
   ]
  },
  {
   "cell_type": "code",
   "execution_count": 1,
   "metadata": {
    "deletable": false,
    "editable": false
   },
   "outputs": [
    {
     "name": "stdout",
     "output_type": "stream",
     "text": [
      "academic mode\n"
     ]
    }
   ],
   "source": [
    "%run '/Users/edward/Documents/Scripts/Python/init_py.py'\n",
    "addpythonpkg('ReadNWrite')\n",
    "from scipy import signal, stats\n",
    "from IPython import display\n",
    "import seaborn as sns\n",
    "import warnings\n",
    "import json\n",
    "from edf import * # custom parser"
   ]
  },
  {
   "cell_type": "markdown",
   "metadata": {
    "deletable": false,
    "editable": false,
    "hide_input": true
   },
   "source": [
    "## List all the files"
   ]
  },
  {
   "cell_type": "code",
   "execution_count": 7,
   "metadata": {
    "deletable": false,
    "editable": false,
    "hide_input": true,
    "run_control": {
     "frozen": true
    }
   },
   "outputs": [
    {
     "name": "stdout",
     "output_type": "stream",
     "text": [
      "train: 1984\n",
      "test: 1013\n"
     ]
    }
   ],
   "source": [
    "basedir = '/Volumes/Storage/TUH_EEG/'\n",
    "P_train, N_train = SearchFiles(os.path.join(basedir, 'train'), '*/*/*/*/*.edf')\n",
    "P_test, N_test = SearchFiles(os.path.join(basedir, 'dev_test'), '*/*/*/*/*.edf')\n",
    "P = P_train + P_test\n",
    "N = N_train + N_test\n",
    "print('train:', len(N_train))\n",
    "print('test:', len(N_test))"
   ]
  },
  {
   "cell_type": "markdown",
   "metadata": {},
   "source": [
    "## Double check if all the record duration is 1.0 second\n",
    "This way, we can simply use `.num_records` for duration of the sample."
   ]
  },
  {
   "cell_type": "code",
   "execution_count": 7,
   "metadata": {
    "deletable": false,
    "editable": false,
    "hide_input": true,
    "run_control": {
     "frozen": true
    }
   },
   "outputs": [
    {
     "name": "stdout",
     "output_type": "stream",
     "text": [
      "Progress: |██████████████████████████████████████████████████| 100.0% Complete\n",
      "Finished Checking\n"
     ]
    }
   ],
   "source": [
    "l = len(P)\n",
    "printProgressBar(0, l, prefix = 'Progress:', suffix = 'Complete', length = 50)\n",
    "for n, p in enumerate(P):\n",
    "    printProgressBar(n+1, l, prefix = 'Progress:', suffix = 'Complete', length = 50)\n",
    "    eeg_data = EDF(p, header_only=True)\n",
    "    if abs(eeg_data.header.duration - 1.0)>1E-6:\n",
    "        print(p)\n",
    "        \n",
    "print('Finished Checking')"
   ]
  },
  {
   "cell_type": "markdown",
   "metadata": {},
   "source": [
    "Conclusion: All duration is 1.0 second. We can use `.num_records` for duration of the sample"
   ]
  },
  {
   "cell_type": "markdown",
   "metadata": {},
   "source": [
    "## Calculate the average durations and # channels of the samples"
   ]
  },
  {
   "cell_type": "code",
   "execution_count": 173,
   "metadata": {
    "deletable": false,
    "editable": false,
    "hide_input": true,
    "run_control": {
     "frozen": true
    }
   },
   "outputs": [],
   "source": [
    "def duration_x_channel(P):\n",
    "    l = len(P)\n",
    "    eeg_durations, eeg_channels = np.zeros(l), np.zeros(l)\n",
    "    printProgressBar(0, l, prefix = 'Progress:', suffix = 'Complete', length = 50)\n",
    "    for n, p in enumerate(P):\n",
    "        printProgressBar(n+1, l, prefix = 'Progress:', suffix = 'Complete', length = 50)\n",
    "        eeg_data = EDF(p, header_only=True)\n",
    "        eeg_durations[n] = eeg_data.header.num_records\n",
    "        eeg_channels[n] = eeg_data.header.num_signals\n",
    "\n",
    "    print('Durations: ', np.mean(eeg_durations), '±', np.std(eeg_durations))\n",
    "    print('min: ', np.min(eeg_durations), 'max: ', np.max(eeg_durations))\n",
    "    print(eeg_durations)\n",
    "\n",
    "    print('# channels: ', np.mean(eeg_channels), '±', np.std(eeg_channels))\n",
    "    print('min: ', np.min(eeg_channels), 'max: ', np.max(eeg_channels))\n",
    "    print(eeg_channels)\n",
    "    return eeg_durations, eeg_channels\n"
   ]
  },
  {
   "cell_type": "code",
   "execution_count": 176,
   "metadata": {
    "deletable": false,
    "editable": false,
    "run_control": {
     "frozen": true
    }
   },
   "outputs": [
    {
     "name": "stdout",
     "output_type": "stream",
     "text": [
      "all\n",
      "Progress: |██████████████████████████████████████████████████| 100.0% Complete\n",
      "Durations:  600.6252919586253 ± 449.9848120385344\n",
      "min:  16.0 max:  3526.0\n",
      "[1205. 1442. 1197. ...  425.  365.  395.]\n",
      "# channels:  32.46813480146813 ± 3.5574416390896606\n",
      "min:  25.0 max:  41.0\n",
      "[36. 36. 36. ... 32. 32. 32.]\n"
     ]
    }
   ],
   "source": [
    "print('all')\n",
    "eeg_durations, eeg_channels = duration_x_channel(P)"
   ]
  },
  {
   "cell_type": "code",
   "execution_count": 175,
   "metadata": {
    "deletable": false,
    "editable": false,
    "hide_input": false,
    "run_control": {
     "frozen": true
    }
   },
   "outputs": [
    {
     "name": "stdout",
     "output_type": "stream",
     "text": [
      "train\n",
      "Progress: |██████████████████████████████████████████████████| 100.0% Complete\n",
      "Durations:  598.2066532258065 ± 456.4903538756773\n",
      "min:  16.0 max:  3526.0\n",
      "[1205. 1442. 1197. ...  375.  373.   55.]\n",
      "# channels:  32.65625 ± 3.768607229949684\n",
      "min:  25.0 max:  41.0\n",
      "[36. 36. 36. ... 32. 32. 32.]\n"
     ]
    }
   ],
   "source": [
    "print('train')\n",
    "eeg_durations_train, eeg_channels_train = duration_x_channel(P_train)"
   ]
  },
  {
   "cell_type": "code",
   "execution_count": 177,
   "metadata": {
    "deletable": false,
    "editable": false,
    "run_control": {
     "frozen": true
    }
   },
   "outputs": [
    {
     "name": "stdout",
     "output_type": "stream",
     "text": [
      "test\n",
      "Progress: |██████████████████████████████████████████████████| 100.0% Complete\n",
      "Durations:  605.3622902270483 ± 436.9241476493356\n",
      "min:  17.0 max:  3405.0\n",
      "[ 20. 272. 234. ... 425. 365. 395.]\n",
      "# channels:  32.09970384995064 ± 3.0692774199648047\n",
      "min:  27.0 max:  41.0\n",
      "[32. 32. 32. ... 32. 32. 32.]\n"
     ]
    }
   ],
   "source": [
    "print('test')\n",
    "eeg_durations_test, eeg_channels_test = duration_x_channel(P_test)"
   ]
  },
  {
   "cell_type": "markdown",
   "metadata": {
    "deletable": false,
    "editable": false,
    "run_control": {
     "frozen": true
    }
   },
   "source": [
    "## Data structure explore"
   ]
  },
  {
   "cell_type": "code",
   "execution_count": 3,
   "metadata": {
    "deletable": false,
    "editable": false,
    "hide_input": true,
    "run_control": {
     "frozen": true
    }
   },
   "outputs": [
    {
     "name": "stdout",
     "output_type": "stream",
     "text": [
      "Length (s): 1205\n",
      "# Channels:  36\n",
      "Sampling rate (points per sec):  [250, 250, 250, 250, 250, 250, 250, 250, 250, 250, 250, 250, 250, 250, 250, 250, 250, 250, 250, 250, 250, 250, 250, 250, 250, 250, 250, 250, 250, 250, 250, 250, 250, 1, 1, 1]\n"
     ]
    }
   ],
   "source": [
    "eeg_data = EDF(P_train[0])\n",
    "print('Length (s):', eeg_data.header.num_records)\n",
    "print('# Channels: ', eeg_data.header.num_signals)\n",
    "print('Sampling rate (points per sec): ', eeg_data.header.sample_rate)"
   ]
  },
  {
   "cell_type": "markdown",
   "metadata": {},
   "source": [
    "## Do some plots"
   ]
  },
  {
   "cell_type": "code",
   "execution_count": 8,
   "metadata": {
    "deletable": false,
    "editable": false,
    "run_control": {
     "frozen": true
    }
   },
   "outputs": [
    {
     "data": {
      "image/png": "[encoded data removed]",
      "text/plain": [
       "<Figure size 864x360 with 5 Axes>"
      ]
     },
     "metadata": {
      "needs_background": "light"
     },
     "output_type": "display_data"
    }
   ],
   "source": [
    "eeg_data = EDF(P_train[0])\n",
    "fig, axs = plt.subplots(5, 1)\n",
    "fig.set_size_inches(12, 5)\n",
    "for n, ax in enumerate(axs):\n",
    "    time_base = np.arange(0, eeg_data.header.num_records, 1/eeg_data.header.sample_rate[n])\n",
    "    ax.plot(time_base, eeg_data.data[n])"
   ]
  },
  {
   "cell_type": "code",
   "execution_count": 10,
   "metadata": {
    "deletable": false,
    "editable": false,
    "run_control": {
     "frozen": true
    }
   },
   "outputs": [
    {
     "data": {
      "image/png": "[encoded data removed]",
      "text/plain": [
       "<Figure size 864x360 with 5 Axes>"
      ]
     },
     "metadata": {
      "needs_background": "light"
     },
     "output_type": "display_data"
    }
   ],
   "source": [
    "eeg_data = EDF(P_train[1])\n",
    "fig, axs = plt.subplots(5, 1)\n",
    "fig.set_size_inches(12, 5)\n",
    "for n, ax in enumerate(axs):\n",
    "    time_base = np.arange(0, eeg_data.header.num_records, 1/eeg_data.header.sample_rate[n])\n",
    "    ax.plot(time_base, eeg_data.data[n])\n",
    "    ax.set_ylim(-300, 300)"
   ]
  },
  {
   "cell_type": "code",
   "execution_count": 11,
   "metadata": {
    "deletable": false,
    "editable": false,
    "run_control": {
     "frozen": true
    }
   },
   "outputs": [
    {
     "data": {
      "image/png": "[encoded data removed]",
      "text/plain": [
       "<Figure size 864x360 with 5 Axes>"
      ]
     },
     "metadata": {
      "needs_background": "light"
     },
     "output_type": "display_data"
    }
   ],
   "source": [
    "eeg_data = EDF(P_test[0])\n",
    "fig, axs = plt.subplots(5, 1)\n",
    "fig.set_size_inches(12, 5)\n",
    "for n, ax in enumerate(axs):\n",
    "    time_base = np.arange(0, eeg_data.header.num_records, 1/eeg_data.header.sample_rate[n])\n",
    "    ax.plot(time_base, eeg_data.data[n])"
   ]
  },
  {
   "cell_type": "code",
   "execution_count": 12,
   "metadata": {
    "deletable": false,
    "editable": false,
    "run_control": {
     "frozen": true
    }
   },
   "outputs": [
    {
     "data": {
      "image/png": "[encoded data removed]",
      "text/plain": [
       "<Figure size 864x360 with 5 Axes>"
      ]
     },
     "metadata": {
      "needs_background": "light"
     },
     "output_type": "display_data"
    }
   ],
   "source": [
    "eeg_data = EDF(P_train[50])\n",
    "fig, axs = plt.subplots(5, 1)\n",
    "fig.set_size_inches(12, 5)\n",
    "for n, ax in enumerate(axs):\n",
    "    time_base = np.arange(0, eeg_data.header.num_records, 1/eeg_data.header.sample_rate[n])\n",
    "    ax.plot(time_base, eeg_data.data[n])"
   ]
  },
  {
   "cell_type": "markdown",
   "metadata": {
    "hide_input": true
   },
   "source": [
    "## Finding common channels across the dataset\n",
    "At least for the first pass of analysis, do not deal with missing data / channel"
   ]
  },
  {
   "cell_type": "code",
   "execution_count": 15,
   "metadata": {
    "deletable": false,
    "editable": false,
    "hide_input": true,
    "run_control": {
     "frozen": true
    }
   },
   "outputs": [],
   "source": [
    "def find_common_channels(P):\n",
    "    eeg_data = EDF(P[0], header_only=True)\n",
    "    available_channels = [ll.replace(\"EEG \",\"\").replace(\"-REF\",\"\").replace(\"-LE\",\"\") \\\n",
    "                          for ll in eeg_data.header.labels]\n",
    "\n",
    "    l = len(P)\n",
    "    printProgressBar(0, l, prefix = 'Progress:', suffix = 'Complete', length = 50)\n",
    "    for n, p in enumerate(P):\n",
    "        printProgressBar(n+1, l, prefix = 'Progress:', suffix = 'Complete', length = 50)\n",
    "        eeg_data = EDF(p, header_only=True)\n",
    "        labels = [ll.replace(\"EEG \",\"\").replace(\"-REF\",\"\").replace(\"-LE\",\"\") \\\n",
    "                          for ll in eeg_data.header.labels]\n",
    "        available_channels = list(set(available_channels) & set(labels))\n",
    "        \n",
    "    print(len(available_channels), 'channels')\n",
    "    print(available_channels)"
   ]
  },
  {
   "cell_type": "code",
   "execution_count": 18,
   "metadata": {
    "deletable": false,
    "editable": false,
    "hide_input": false,
    "run_control": {
     "frozen": true
    }
   },
   "outputs": [
    {
     "name": "stdout",
     "output_type": "stream",
     "text": [
      "Progress: |██████████████████████████████████████████████████| 100.0% Complete\n",
      "19 channels\n",
      "['T4', 'O1', 'F8', 'FZ', 'P4', 'F4', 'F3', 'FP2', 'O2', 'T6', 'CZ', 'PZ', 'F7', 'C3', 'P3', 'T5', 'C4', 'T3', 'FP1']\n"
     ]
    }
   ],
   "source": [
    "find_common_channels(P)"
   ]
  },
  {
   "cell_type": "code",
   "execution_count": 19,
   "metadata": {
    "deletable": false,
    "editable": false,
    "run_control": {
     "frozen": true
    }
   },
   "outputs": [
    {
     "name": "stdout",
     "output_type": "stream",
     "text": [
      "Progress: |██████████████████████████████████████████████████| 100.0% Complete\n",
      "19 channels\n",
      "['T4', 'O1', 'F8', 'FZ', 'P4', 'F4', 'F3', 'FP2', 'O2', 'T6', 'CZ', 'PZ', 'F7', 'C3', 'P3', 'T5', 'C4', 'T3', 'FP1']\n"
     ]
    }
   ],
   "source": [
    "find_common_channels(P_train)"
   ]
  },
  {
   "cell_type": "code",
   "execution_count": 20,
   "metadata": {
    "deletable": false,
    "editable": false,
    "run_control": {
     "frozen": true
    }
   },
   "outputs": [
    {
     "name": "stdout",
     "output_type": "stream",
     "text": [
      "Progress: |██████████████████████████████████████████████████| 100.0% Complete\n",
      "19 channels\n",
      "['T4', 'O1', 'F8', 'FZ', 'P4', 'F4', 'F3', 'FP2', 'O2', 'T6', 'CZ', 'PZ', 'F7', 'C3', 'P3', 'T5', 'C4', 'T3', 'FP1']\n"
     ]
    }
   ],
   "source": [
    "find_common_channels(P_test)"
   ]
  },
  {
   "cell_type": "markdown",
   "metadata": {},
   "source": [
    "Conclusion: should only use the following 19 channels"
   ]
  },
  {
   "cell_type": "code",
   "execution_count": 4,
   "metadata": {
    "deletable": false,
    "editable": false,
    "run_control": {
     "frozen": true
    }
   },
   "outputs": [],
   "source": [
    "channels = ['T4', 'O1', 'F8', 'FZ', 'P4', 'F4', 'F3', 'FP2', 'O2', 'T6', 'CZ', 'PZ', 'F7', 'C3', 'P3', \n",
    "            'T5', 'C4', 'T3', 'FP1']"
   ]
  },
  {
   "cell_type": "markdown",
   "metadata": {},
   "source": [
    "## Find out the sample rates for the data"
   ]
  },
  {
   "cell_type": "code",
   "execution_count": 24,
   "metadata": {
    "deletable": false,
    "editable": false,
    "hide_input": true,
    "run_control": {
     "frozen": true
    }
   },
   "outputs": [],
   "source": [
    "def find_sample_rate(P, channels):\n",
    "    sample_rates = [[]] * len(P)\n",
    "    unique_rates = [[]] * len(P)\n",
    "\n",
    "    l = len(P)\n",
    "    printProgressBar(0, l, prefix = 'Progress:', suffix = 'Complete', length = 50)\n",
    "    for n, p in enumerate(P):\n",
    "        printProgressBar(n+1, l, prefix = 'Progress:', suffix = 'Complete', length = 50)\n",
    "        eeg_data = EDF(p, header_only=True)\n",
    "        labels = [ll.replace(\"EEG \",\"\").replace(\"-REF\",\"\").replace(\"-LE\",\"\") \\\n",
    "                          for ll in eeg_data.header.labels]\n",
    "        current_sample_rates = [eeg_data.header.sample_rate[labels.index(c)] for c in channels]\n",
    "        unique_rates[n] = len(set(current_sample_rates)) > 1\n",
    "        sample_rates[n] = current_sample_rates[0]\n",
    "    \n",
    "    sample_rates_unqiue, counts = np.unique(sample_rates, return_counts=True)\n",
    "    print('rates: ', np.mean(sample_rates), '±', np.std(sample_rates))\n",
    "    for sru, cc in zip(sample_rates_unqiue, counts):\n",
    "        print(sru, ':', cc)\n",
    "    print('All has unique rates:', all(sample_rates))\n",
    "                                \n",
    "    return sample_rates, unique_rates"
   ]
  },
  {
   "cell_type": "code",
   "execution_count": 25,
   "metadata": {
    "deletable": false,
    "editable": false,
    "run_control": {
     "frozen": true
    }
   },
   "outputs": [
    {
     "name": "stdout",
     "output_type": "stream",
     "text": [
      "Progress: |██████████████████████████████████████████████████| 100.0% Complete\n",
      "rates:  286.63004032258067 ± 66.20304349912291\n",
      "250 : 605\n",
      "256 : 966\n",
      "400 : 369\n",
      "512 : 44\n",
      "All has unique rates: True\n"
     ]
    }
   ],
   "source": [
    "sample_rates, _ = find_sample_rate(P_train, channels)"
   ]
  },
  {
   "cell_type": "code",
   "execution_count": 26,
   "metadata": {
    "deletable": false,
    "editable": false,
    "run_control": {
     "frozen": true
    }
   },
   "outputs": [
    {
     "name": "stdout",
     "output_type": "stream",
     "text": [
      "Progress: |██████████████████████████████████████████████████| 100.0% Complete\n",
      "rates:  276.5310957551826 ± 60.40768266421519\n",
      "250 : 139\n",
      "256 : 751\n",
      "400 : 88\n",
      "512 : 35\n",
      "All has unique rates: True\n"
     ]
    }
   ],
   "source": [
    "sample_rates, _ = find_sample_rate(P_test, channels)"
   ]
  },
  {
   "cell_type": "markdown",
   "metadata": {},
   "source": [
    "Conclusion: resample everything to 256 samples per second, since most of the data has that sampling rate"
   ]
  },
  {
   "cell_type": "markdown",
   "metadata": {},
   "source": [
    "## Resampling example"
   ]
  },
  {
   "cell_type": "code",
   "execution_count": 80,
   "metadata": {
    "deletable": false,
    "editable": false,
    "run_control": {
     "frozen": true
    }
   },
   "outputs": [
    {
     "data": {
      "text/plain": [
       "(77600,)"
      ]
     },
     "execution_count": 80,
     "metadata": {},
     "output_type": "execute_result"
    }
   ],
   "source": [
    "eeg_data = EDF(P_train[4])\n",
    "wdata = eeg_data.data[0]\n",
    "wdata.shape"
   ]
  },
  {
   "cell_type": "code",
   "execution_count": 81,
   "metadata": {
    "deletable": false,
    "editable": false,
    "run_control": {
     "frozen": true
    }
   },
   "outputs": [],
   "source": [
    "warnings.filterwarnings(\"ignore\")\n",
    "time_base = np.arange(0, eeg_data.header.num_records, 1/eeg_data.header.sample_rate[0])\n",
    "wdata2, time_base2 = signal.resample(wdata, eeg_data.header.num_records * 256, time_base)"
   ]
  },
  {
   "cell_type": "code",
   "execution_count": 92,
   "metadata": {
    "deletable": false,
    "editable": false,
    "run_control": {
     "frozen": true
    }
   },
   "outputs": [
    {
     "name": "stdout",
     "output_type": "stream",
     "text": [
      "77600\n",
      "49664\n"
     ]
    }
   ],
   "source": [
    "print(len(wdata))\n",
    "print(len(wdata2))"
   ]
  },
  {
   "cell_type": "code",
   "execution_count": 90,
   "metadata": {
    "deletable": false,
    "editable": false,
    "hide_input": true,
    "run_control": {
     "frozen": true
    }
   },
   "outputs": [
    {
     "data": {
      "image/png": "[encoded data removed]",
      "text/plain": [
       "<Figure size 864x360 with 4 Axes>"
      ]
     },
     "metadata": {
      "needs_background": "light"
     },
     "output_type": "display_data"
    }
   ],
   "source": [
    "fig = plt.figure(figsize=(12, 5))\n",
    "plt.subplot(4,1,1)\n",
    "plt.plot(time_base, wdata)\n",
    "plt.title('original vs. time')\n",
    "plt.subplot(4,1,2)\n",
    "plt.plot(time_base2, wdata2, color=tableau10[1])\n",
    "plt.title('resampled vs. time')\n",
    "plt.subplot(4, 1,3)\n",
    "plt.plot(wdata)\n",
    "plt.title('original vs. index')\n",
    "plt.subplot(4, 1,4)\n",
    "plt.plot(wdata2, color=tableau10[1])\n",
    "plt.title('resampled vs. index')\n",
    "plt.subplots_adjust(hspace=1)"
   ]
  },
  {
   "cell_type": "markdown",
   "metadata": {},
   "source": [
    "## Converting each of the avaiable channels into a spectrogram"
   ]
  },
  {
   "cell_type": "code",
   "execution_count": 13,
   "metadata": {
    "deletable": false,
    "editable": false,
    "hide_input": true,
    "run_control": {
     "frozen": true
    }
   },
   "outputs": [
    {
     "data": {
      "image/png": "[encoded data removed]",
      "text/plain": [
       "<Figure size 432x288 with 1 Axes>"
      ]
     },
     "metadata": {},
     "output_type": "display_data"
    }
   ],
   "source": [
    "eeg_data = EDF(P_train[13])    \n",
    "c = channels[0]\n",
    "labels = [ll.replace(\"EEG \", \"\").replace(\"-LE\", \"\").replace(\"-REF\",\"\") for ll in eeg_data.header.labels]\n",
    "index = labels.index(c)\n",
    "wdata = eeg_data.data[index]\n",
    "wdata = signal.resample(wdata, eeg_data.header.num_records * 256)\n",
    "fs = 256\n",
    "frequencies, times, spectrogram = signal.spectrogram(wdata, fs)\n",
    "plt.pcolormesh(times, frequencies, spectrogram, cmap='jet')\n",
    "plt.xlabel('Time [Sec]')\n",
    "_ = plt.ylabel('Frequency [Hz]')"
   ]
  },
  {
   "cell_type": "markdown",
   "metadata": {},
   "source": [
    "Conclusion: strong 60Hz artifacts. Need to turn on the notch filter"
   ]
  },
  {
   "cell_type": "code",
   "execution_count": 14,
   "metadata": {
    "deletable": false,
    "editable": false,
    "hide_input": true,
    "run_control": {
     "frozen": true
    }
   },
   "outputs": [
    {
     "data": {
      "image/png": "[encoded data removed]",
      "text/plain": [
       "<Figure size 432x288 with 1 Axes>"
      ]
     },
     "metadata": {},
     "output_type": "display_data"
    }
   ],
   "source": [
    "def EEG2Spectrogram(eeg_data, channels=None, sample_rate=256, window='hann', T=1, ts=0.5):\n",
    "    \"\"\"\n",
    "    eeg_data\n",
    "    channels: list of subset of channels \n",
    "    sample_rate: samples per second.\n",
    "    window: window type. Default 'hann'\n",
    "    T: window size (sec). Default 1 second\n",
    "    ts: time resolution (sec). Deafult 0.5 second\n",
    "    \"\"\"\n",
    "    warnings.filterwarnings(\"ignore\")\n",
    "    if channels is None:\n",
    "        channels = eeg_data.header.labels\n",
    "    \n",
    "    \n",
    "    labels = [ll.replace(\"EEG \", \"\").replace(\"-LE\", \"\").replace(\"-REF\",\"\") for ll in eeg_data.header.labels]\n",
    "    for n, c in enumerate(channels):\n",
    "        index = labels.index(c)\n",
    "        wdata = eeg_data.data[index]\n",
    "        # resample if necessary\n",
    "        if sample_rate is not None:\n",
    "            wdata = signal.resample(wdata, eeg_data.header.num_records * sample_rate)\n",
    "            fs = sample_rate\n",
    "        else:\n",
    "            fs = eeg_data.header.sample_rate[index]\n",
    "            \n",
    "        # Apply the notch filter to filter out 60 Hz artifacts\n",
    "        b, a = signal.iirnotch(60 / (fs/2), 30)\n",
    "        wdata = signal.filtfilt(b, a, wdata)\n",
    "\n",
    "        # make spectrogram\n",
    "        frequencies, times, Sxx = signal.spectrogram(wdata, fs, window=window,\n",
    "                                                     nperseg=int(fs*T), noverlap=int(fs*(T-ts)))\n",
    "        \n",
    "        # Upon first iteration of running, initialize the spectrogram matrix\n",
    "        if n == 0: \n",
    "            spectrogram = np.empty((len(channels), len(frequencies), len(times)))\n",
    "        \n",
    "        spectrogram[n, :, :] = Sxx\n",
    "            \n",
    "    return frequencies, times, spectrogram\n",
    "\n",
    "eeg_data = EDF(P_train[13])    \n",
    "frequencies, times, spectrogram = EEG2Spectrogram(eeg_data, channels=channels)\n",
    "plt.pcolormesh(times, frequencies, spectrogram[0], cmap='jet')\n",
    "plt.xlabel('Time [Sec]')\n",
    "_ = plt.ylabel('Frequency [Hz]')"
   ]
  },
  {
   "cell_type": "code",
   "execution_count": null,
   "metadata": {
    "deletable": false,
    "editable": false,
    "run_control": {
     "frozen": true
    }
   },
   "outputs": [],
   "source": [
    "# Loop and write the spectrograms into files later\n",
    "for p in P:\n",
    "    frequencies, times, spectrogram = EEG2Spectrogram(eeg_data, channels=channels)\n",
    "    "
   ]
  },
  {
   "cell_type": "markdown",
   "metadata": {},
   "source": [
    "# Explore Excel label file"
   ]
  },
  {
   "cell_type": "code",
   "execution_count": 191,
   "metadata": {
    "deletable": false,
    "editable": false,
    "run_control": {
     "frozen": true
    }
   },
   "outputs": [
    {
     "data": {
      "text/html": [
       "<div>\n",
       "<style scoped>\n",
       "    .dataframe tbody tr th:only-of-type {\n",
       "        vertical-align: middle;\n",
       "    }\n",
       "\n",
       "    .dataframe tbody tr th {\n",
       "        vertical-align: top;\n",
       "    }\n",
       "\n",
       "    .dataframe thead th {\n",
       "        text-align: right;\n",
       "    }\n",
       "</style>\n",
       "<table border=\"1\" class=\"dataframe\">\n",
       "  <thead>\n",
       "    <tr style=\"text-align: right;\">\n",
       "      <th></th>\n",
       "      <th>Index</th>\n",
       "      <th>File No.</th>\n",
       "      <th>Patient</th>\n",
       "      <th>Session</th>\n",
       "      <th>File</th>\n",
       "      <th>EEG Type</th>\n",
       "      <th>EEG SubType</th>\n",
       "      <th>LTM -or- Routine</th>\n",
       "      <th>Normal/Abnormal</th>\n",
       "      <th>No. Seizures/File</th>\n",
       "      <th>No. Seizures/Session</th>\n",
       "      <th>Filename</th>\n",
       "      <th>Seizure Start Time</th>\n",
       "      <th>Seizure End Time</th>\n",
       "      <th>Seizure Type</th>\n",
       "      <th>Seizure Duration</th>\n",
       "    </tr>\n",
       "  </thead>\n",
       "  <tbody>\n",
       "    <tr>\n",
       "      <th>1</th>\n",
       "      <td>1</td>\n",
       "      <td>1.0</td>\n",
       "      <td>77.0</td>\n",
       "      <td>s003</td>\n",
       "      <td>t000</td>\n",
       "      <td>Outpatient</td>\n",
       "      <td>Outpatient</td>\n",
       "      <td>Routine</td>\n",
       "      <td>Abnormal</td>\n",
       "      <td>0.0</td>\n",
       "      <td>0.0</td>\n",
       "      <td>./edf/train/01_tcp_ar/000/00000077/s003_2010_0...</td>\n",
       "      <td>NaN</td>\n",
       "      <td>NaN</td>\n",
       "      <td>NaN</td>\n",
       "      <td>NaN</td>\n",
       "    </tr>\n",
       "    <tr>\n",
       "      <th>2</th>\n",
       "      <td>2</td>\n",
       "      <td>2.0</td>\n",
       "      <td>254.0</td>\n",
       "      <td>s005</td>\n",
       "      <td>t000</td>\n",
       "      <td>Outpatient</td>\n",
       "      <td>Outpatient</td>\n",
       "      <td>Routine</td>\n",
       "      <td>Abnormal</td>\n",
       "      <td>0.0</td>\n",
       "      <td>0.0</td>\n",
       "      <td>./edf/train/01_tcp_ar/002/00000254/s005_2010_1...</td>\n",
       "      <td>NaN</td>\n",
       "      <td>NaN</td>\n",
       "      <td>NaN</td>\n",
       "      <td>NaN</td>\n",
       "    </tr>\n",
       "    <tr>\n",
       "      <th>3</th>\n",
       "      <td>3</td>\n",
       "      <td>3.0</td>\n",
       "      <td>254.0</td>\n",
       "      <td>s006</td>\n",
       "      <td>t001</td>\n",
       "      <td>Outpatient</td>\n",
       "      <td>Outpatient</td>\n",
       "      <td>Routine</td>\n",
       "      <td>Abnormal</td>\n",
       "      <td>0.0</td>\n",
       "      <td>0.0</td>\n",
       "      <td>./edf/train/01_tcp_ar/002/00000254/s006_2011_0...</td>\n",
       "      <td>NaN</td>\n",
       "      <td>NaN</td>\n",
       "      <td>NaN</td>\n",
       "      <td>NaN</td>\n",
       "    </tr>\n",
       "    <tr>\n",
       "      <th>4</th>\n",
       "      <td>4</td>\n",
       "      <td>4.0</td>\n",
       "      <td>254.0</td>\n",
       "      <td>s007</td>\n",
       "      <td>t000</td>\n",
       "      <td>Inpatient</td>\n",
       "      <td>General</td>\n",
       "      <td>Routine</td>\n",
       "      <td>Abnormal</td>\n",
       "      <td>0.0</td>\n",
       "      <td>0.0</td>\n",
       "      <td>./edf/train/01_tcp_ar/002/00000254/s007_2013_0...</td>\n",
       "      <td>NaN</td>\n",
       "      <td>NaN</td>\n",
       "      <td>NaN</td>\n",
       "      <td>NaN</td>\n",
       "    </tr>\n",
       "    <tr>\n",
       "      <th>5</th>\n",
       "      <td>5</td>\n",
       "      <td>5.0</td>\n",
       "      <td>272.0</td>\n",
       "      <td>s007</td>\n",
       "      <td>t000</td>\n",
       "      <td>ICU</td>\n",
       "      <td>BURN</td>\n",
       "      <td>LTM</td>\n",
       "      <td>Abnormal</td>\n",
       "      <td>0.0</td>\n",
       "      <td>0.0</td>\n",
       "      <td>./edf/train/01_tcp_ar/002/00000272/s007_2003_0...</td>\n",
       "      <td>NaN</td>\n",
       "      <td>NaN</td>\n",
       "      <td>NaN</td>\n",
       "      <td>NaN</td>\n",
       "    </tr>\n",
       "  </tbody>\n",
       "</table>\n",
       "</div>"
      ],
      "text/plain": [
       "  Index  File No.  Patient Session  File    EEG Type EEG SubType  \\\n",
       "1     1       1.0     77.0    s003  t000  Outpatient  Outpatient   \n",
       "2     2       2.0    254.0    s005  t000  Outpatient  Outpatient   \n",
       "3     3       3.0    254.0    s006  t001  Outpatient  Outpatient   \n",
       "4     4       4.0    254.0    s007  t000   Inpatient     General   \n",
       "5     5       5.0    272.0    s007  t000         ICU        BURN   \n",
       "\n",
       "  LTM -or- Routine Normal/Abnormal  No. Seizures/File  No. Seizures/Session  \\\n",
       "1          Routine        Abnormal                0.0                   0.0   \n",
       "2          Routine        Abnormal                0.0                   0.0   \n",
       "3          Routine        Abnormal                0.0                   0.0   \n",
       "4          Routine        Abnormal                0.0                   0.0   \n",
       "5              LTM        Abnormal                0.0                   0.0   \n",
       "\n",
       "                                            Filename  Seizure Start Time  \\\n",
       "1  ./edf/train/01_tcp_ar/000/00000077/s003_2010_0...                 NaN   \n",
       "2  ./edf/train/01_tcp_ar/002/00000254/s005_2010_1...                 NaN   \n",
       "3  ./edf/train/01_tcp_ar/002/00000254/s006_2011_0...                 NaN   \n",
       "4  ./edf/train/01_tcp_ar/002/00000254/s007_2013_0...                 NaN   \n",
       "5  ./edf/train/01_tcp_ar/002/00000272/s007_2003_0...                 NaN   \n",
       "\n",
       "   Seizure End Time Seizure Type  Seizure Duration  \n",
       "1               NaN          NaN               NaN  \n",
       "2               NaN          NaN               NaN  \n",
       "3               NaN          NaN               NaN  \n",
       "4               NaN          NaN               NaN  \n",
       "5               NaN          NaN               NaN  "
      ]
     },
     "execution_count": 191,
     "metadata": {},
     "output_type": "execute_result"
    }
   ],
   "source": [
    "excelsheet = '/Volumes/Storage/TUH_EEG/_DOCS/seizures_v31r.xlsx'\n",
    "df_train = pd.read_excel(excelsheet, 'train').iloc[1:2895, :15]\n",
    "df_train = df_train.rename(columns={'Seizure Time': 'Seizure Start Time', 'Unnamed: 13': 'Seizure End Time'})\n",
    "df_train.columns = [c.replace(\"\\n\", \"\") for c in df_train.columns]\n",
    "df_train['Seizure Start Time'] = df_train['Seizure Start Time'].astype(np.float64)\n",
    "df_train['Seizure End Time'] = df_train['Seizure End Time'].astype(np.float64)\n",
    "df_train['Seizure Duration'] = df_train['Seizure End Time'] - df_train['Seizure Start Time']\n",
    "df_train.head()"
   ]
  },
  {
   "cell_type": "code",
   "execution_count": 189,
   "metadata": {
    "deletable": false,
    "editable": false,
    "hide_input": false,
    "run_control": {
     "frozen": true
    }
   },
   "outputs": [
    {
     "data": {
      "text/html": [
       "<div>\n",
       "<style scoped>\n",
       "    .dataframe tbody tr th:only-of-type {\n",
       "        vertical-align: middle;\n",
       "    }\n",
       "\n",
       "    .dataframe tbody tr th {\n",
       "        vertical-align: top;\n",
       "    }\n",
       "\n",
       "    .dataframe thead th {\n",
       "        text-align: right;\n",
       "    }\n",
       "</style>\n",
       "<table border=\"1\" class=\"dataframe\">\n",
       "  <thead>\n",
       "    <tr style=\"text-align: right;\">\n",
       "      <th></th>\n",
       "      <th>Index</th>\n",
       "      <th>File No.</th>\n",
       "      <th>Patient</th>\n",
       "      <th>Session</th>\n",
       "      <th>File</th>\n",
       "      <th>EEG Type</th>\n",
       "      <th>EEG SubType</th>\n",
       "      <th>LTM -or- Routine</th>\n",
       "      <th>Normal/Abnormal</th>\n",
       "      <th>No. Seizures/File</th>\n",
       "      <th>No. Seizures/Session</th>\n",
       "      <th>Filename</th>\n",
       "      <th>Seizure Start Time</th>\n",
       "      <th>Seizure End Time</th>\n",
       "      <th>Seizure Type</th>\n",
       "      <th>Seizure Duration</th>\n",
       "    </tr>\n",
       "  </thead>\n",
       "  <tbody>\n",
       "    <tr>\n",
       "      <th>1</th>\n",
       "      <td>1</td>\n",
       "      <td>1.0</td>\n",
       "      <td>258.0</td>\n",
       "      <td>s002</td>\n",
       "      <td>t000</td>\n",
       "      <td>Outpatient</td>\n",
       "      <td>Outpatient</td>\n",
       "      <td>LTM</td>\n",
       "      <td>Abnormal</td>\n",
       "      <td>0.0</td>\n",
       "      <td>1.0</td>\n",
       "      <td>./edf/dev_test/01_tcp_ar/002/00000258/s002_200...</td>\n",
       "      <td>NaN</td>\n",
       "      <td>NaN</td>\n",
       "      <td>NaN</td>\n",
       "      <td>NaN</td>\n",
       "    </tr>\n",
       "    <tr>\n",
       "      <th>2</th>\n",
       "      <td>2</td>\n",
       "      <td>2.0</td>\n",
       "      <td>NaN</td>\n",
       "      <td>NaN</td>\n",
       "      <td>t002</td>\n",
       "      <td>NaN</td>\n",
       "      <td>NaN</td>\n",
       "      <td>NaN</td>\n",
       "      <td>NaN</td>\n",
       "      <td>1.0</td>\n",
       "      <td>NaN</td>\n",
       "      <td>./edf/dev_test/01_tcp_ar/002/00000258/s002_200...</td>\n",
       "      <td>15.9375</td>\n",
       "      <td>136.4375</td>\n",
       "      <td>TCSZ</td>\n",
       "      <td>120.5000</td>\n",
       "    </tr>\n",
       "    <tr>\n",
       "      <th>3</th>\n",
       "      <td>3</td>\n",
       "      <td>3.0</td>\n",
       "      <td>258.0</td>\n",
       "      <td>s003</td>\n",
       "      <td>t000</td>\n",
       "      <td>Outpatient</td>\n",
       "      <td>Outpatient</td>\n",
       "      <td>LTM</td>\n",
       "      <td>Abnormal</td>\n",
       "      <td>1.0</td>\n",
       "      <td>6.0</td>\n",
       "      <td>./edf/dev_test/01_tcp_ar/002/00000258/s003_200...</td>\n",
       "      <td>13.0225</td>\n",
       "      <td>143.3225</td>\n",
       "      <td>TCSZ</td>\n",
       "      <td>130.3000</td>\n",
       "    </tr>\n",
       "    <tr>\n",
       "      <th>4</th>\n",
       "      <td>4</td>\n",
       "      <td>4.0</td>\n",
       "      <td>NaN</td>\n",
       "      <td>NaN</td>\n",
       "      <td>t001</td>\n",
       "      <td>NaN</td>\n",
       "      <td>NaN</td>\n",
       "      <td>NaN</td>\n",
       "      <td>NaN</td>\n",
       "      <td>1.0</td>\n",
       "      <td>NaN</td>\n",
       "      <td>./edf/dev_test/01_tcp_ar/002/00000258/s003_200...</td>\n",
       "      <td>45.9300</td>\n",
       "      <td>162.2325</td>\n",
       "      <td>TCSZ</td>\n",
       "      <td>116.3025</td>\n",
       "    </tr>\n",
       "    <tr>\n",
       "      <th>5</th>\n",
       "      <td>5</td>\n",
       "      <td>5.0</td>\n",
       "      <td>NaN</td>\n",
       "      <td>NaN</td>\n",
       "      <td>t002</td>\n",
       "      <td>NaN</td>\n",
       "      <td>NaN</td>\n",
       "      <td>NaN</td>\n",
       "      <td>NaN</td>\n",
       "      <td>1.0</td>\n",
       "      <td>NaN</td>\n",
       "      <td>./edf/dev_test/01_tcp_ar/002/00000258/s003_200...</td>\n",
       "      <td>8.8275</td>\n",
       "      <td>202.0000</td>\n",
       "      <td>TCSZ</td>\n",
       "      <td>193.1725</td>\n",
       "    </tr>\n",
       "  </tbody>\n",
       "</table>\n",
       "</div>"
      ],
      "text/plain": [
       "  Index  File No.  Patient Session  File    EEG Type EEG SubType  \\\n",
       "1     1       1.0    258.0    s002  t000  Outpatient  Outpatient   \n",
       "2     2       2.0      NaN     NaN  t002         NaN         NaN   \n",
       "3     3       3.0    258.0    s003  t000  Outpatient  Outpatient   \n",
       "4     4       4.0      NaN     NaN  t001         NaN         NaN   \n",
       "5     5       5.0      NaN     NaN  t002         NaN         NaN   \n",
       "\n",
       "  LTM -or- Routine Normal/Abnormal  No. Seizures/File  No. Seizures/Session  \\\n",
       "1              LTM        Abnormal                0.0                   1.0   \n",
       "2              NaN             NaN                1.0                   NaN   \n",
       "3              LTM        Abnormal                1.0                   6.0   \n",
       "4              NaN             NaN                1.0                   NaN   \n",
       "5              NaN             NaN                1.0                   NaN   \n",
       "\n",
       "                                            Filename  Seizure Start Time  \\\n",
       "1  ./edf/dev_test/01_tcp_ar/002/00000258/s002_200...                 NaN   \n",
       "2  ./edf/dev_test/01_tcp_ar/002/00000258/s002_200...             15.9375   \n",
       "3  ./edf/dev_test/01_tcp_ar/002/00000258/s003_200...             13.0225   \n",
       "4  ./edf/dev_test/01_tcp_ar/002/00000258/s003_200...             45.9300   \n",
       "5  ./edf/dev_test/01_tcp_ar/002/00000258/s003_200...              8.8275   \n",
       "\n",
       "   Seizure End Time Seizure Type  Seizure Duration  \n",
       "1               NaN          NaN               NaN  \n",
       "2          136.4375         TCSZ          120.5000  \n",
       "3          143.3225         TCSZ          130.3000  \n",
       "4          162.2325         TCSZ          116.3025  \n",
       "5          202.0000         TCSZ          193.1725  "
      ]
     },
     "execution_count": 189,
     "metadata": {},
     "output_type": "execute_result"
    }
   ],
   "source": [
    "df_test = pd.read_excel(excelsheet, 'dev_test').iloc[1:1411, :15]\n",
    "df_test = df_test.rename(columns={'Seizure Time':'Seizure Start Time', 'Unnamed: 13': 'Seizure End Time'})\n",
    "df_test.columns = [c.replace(\"\\n\", \"\") for c in df_test.columns]\n",
    "df_test['Seizure Start Time'] = df_test['Seizure Start Time'].astype(np.float64)\n",
    "df_test['Seizure End Time'] = df_test['Seizure End Time'].astype(np.float64)\n",
    "df_test['Seizure Duration'] = df_test['Seizure End Time'] - df_test['Seizure Start Time']\n",
    "df_test.head()"
   ]
  },
  {
   "cell_type": "code",
   "execution_count": 48,
   "metadata": {
    "deletable": false,
    "editable": false,
    "hide_input": false,
    "run_control": {
     "frozen": true
    }
   },
   "outputs": [
    {
     "name": "stdout",
     "output_type": "stream",
     "text": [
      "Progress: |██████████████████████████████████████████████████| 100.0% Complete\n",
      "True : 2894.0\n",
      "True : 2894.0\n",
      "True : 2894.0\n"
     ]
    }
   ],
   "source": [
    "# Checking if files in the excelsheet really exists in the dataset\n",
    "import time\n",
    "df = df_train\n",
    "basedir = '/Volumes/Storage/TUH_EEG'\n",
    "tse_file_exists = np.zeros(df.shape[0])\n",
    "edf_file_exists = np.zeros(df.shape[0])\n",
    "lbl_file_exists = np.zeros(df.shape[0])\n",
    "l = int(df.shape[0])\n",
    "printProgressBar(0, l, prefix = 'Progress:', suffix = 'Complete', length = 50)\n",
    "for i in df.index:\n",
    "    printProgressBar(i, l, prefix = 'Progress:', suffix = 'Complete', length = 50)\n",
    "    filepath = df.loc[i, 'Filename'].replace('./edf', basedir)\n",
    "    tse_file_exists[i-1] = os.path.isfile(filepath)\n",
    "    edf_file_exists[i-1] = os.path.isfile(filepath.replace('.tse', '.edf'))\n",
    "    lbl_file_exists[i-1] = os.path.isfile(filepath.replace('.tse', '.lbl'))\n",
    "    time.sleep(0.001)\n",
    "\n",
    "print(all(tse_file_exists), ':', np.sum(tse_file_exists))\n",
    "print(all(lbl_file_exists), ':', np.sum(lbl_file_exists))\n",
    "print(all(edf_file_exists), ':', np.sum(edf_file_exists))"
   ]
  },
  {
   "cell_type": "markdown",
   "metadata": {},
   "source": [
    "## Count how many entries correspond to each file"
   ]
  },
  {
   "cell_type": "code",
   "execution_count": 128,
   "metadata": {
    "deletable": false,
    "editable": false,
    "hide_input": true,
    "run_control": {
     "frozen": true
    }
   },
   "outputs": [
    {
     "name": "stdout",
     "output_type": "stream",
     "text": [
      "train (unique vs. entries): 1984 / 2894\n",
      "test (unique vs. entries): 1011 / 1410\n"
     ]
    }
   ],
   "source": [
    "print('train (unique vs. entries):', len(df_train['Filename'].unique()), \"/\", df_train.shape[0])\n",
    "print('test (unique vs. entries):', len(df_test['Filename'].unique()), \"/\", df_test.shape[0])"
   ]
  },
  {
   "cell_type": "code",
   "execution_count": 158,
   "metadata": {
    "deletable": false,
    "editable": false,
    "hide_input": true,
    "run_control": {
     "frozen": true
    }
   },
   "outputs": [
    {
     "data": {
      "text/html": [
       "<div>\n",
       "<style scoped>\n",
       "    .dataframe tbody tr th:only-of-type {\n",
       "        vertical-align: middle;\n",
       "    }\n",
       "\n",
       "    .dataframe tbody tr th {\n",
       "        vertical-align: top;\n",
       "    }\n",
       "\n",
       "    .dataframe thead th {\n",
       "        text-align: right;\n",
       "    }\n",
       "</style>\n",
       "<table border=\"1\" class=\"dataframe\">\n",
       "  <thead>\n",
       "    <tr style=\"text-align: right;\">\n",
       "      <th></th>\n",
       "      <th>Filename</th>\n",
       "      <th>Set</th>\n",
       "      <th>Counts</th>\n",
       "    </tr>\n",
       "  </thead>\n",
       "  <tbody>\n",
       "    <tr>\n",
       "      <th>0</th>\n",
       "      <td>./edf/train/01_tcp_ar/000/00000077/s003_2010_0...</td>\n",
       "      <td>train</td>\n",
       "      <td>1</td>\n",
       "    </tr>\n",
       "    <tr>\n",
       "      <th>1</th>\n",
       "      <td>./edf/train/01_tcp_ar/002/00000254/s005_2010_1...</td>\n",
       "      <td>train</td>\n",
       "      <td>1</td>\n",
       "    </tr>\n",
       "    <tr>\n",
       "      <th>2</th>\n",
       "      <td>./edf/train/01_tcp_ar/002/00000254/s006_2011_0...</td>\n",
       "      <td>train</td>\n",
       "      <td>1</td>\n",
       "    </tr>\n",
       "    <tr>\n",
       "      <th>3</th>\n",
       "      <td>./edf/train/01_tcp_ar/002/00000254/s007_2013_0...</td>\n",
       "      <td>train</td>\n",
       "      <td>1</td>\n",
       "    </tr>\n",
       "    <tr>\n",
       "      <th>4</th>\n",
       "      <td>./edf/train/01_tcp_ar/002/00000272/s007_2003_0...</td>\n",
       "      <td>train</td>\n",
       "      <td>1</td>\n",
       "    </tr>\n",
       "  </tbody>\n",
       "</table>\n",
       "</div>"
      ],
      "text/plain": [
       "                                            Filename    Set  Counts\n",
       "0  ./edf/train/01_tcp_ar/000/00000077/s003_2010_0...  train       1\n",
       "1  ./edf/train/01_tcp_ar/002/00000254/s005_2010_1...  train       1\n",
       "2  ./edf/train/01_tcp_ar/002/00000254/s006_2011_0...  train       1\n",
       "3  ./edf/train/01_tcp_ar/002/00000254/s007_2013_0...  train       1\n",
       "4  ./edf/train/01_tcp_ar/002/00000272/s007_2003_0...  train       1"
      ]
     },
     "metadata": {},
     "output_type": "display_data"
    },
    {
     "data": {
      "text/html": [
       "<div>\n",
       "<style scoped>\n",
       "    .dataframe tbody tr th:only-of-type {\n",
       "        vertical-align: middle;\n",
       "    }\n",
       "\n",
       "    .dataframe tbody tr th {\n",
       "        vertical-align: top;\n",
       "    }\n",
       "\n",
       "    .dataframe thead th {\n",
       "        text-align: right;\n",
       "    }\n",
       "</style>\n",
       "<table border=\"1\" class=\"dataframe\">\n",
       "  <thead>\n",
       "    <tr style=\"text-align: right;\">\n",
       "      <th></th>\n",
       "      <th>Filename</th>\n",
       "      <th>Set</th>\n",
       "      <th>Counts</th>\n",
       "    </tr>\n",
       "  </thead>\n",
       "  <tbody>\n",
       "    <tr>\n",
       "      <th>2990</th>\n",
       "      <td>./edf/dev_test/03_tcp_ar_a/065/00006546/s013_2...</td>\n",
       "      <td>dev_test</td>\n",
       "      <td>1</td>\n",
       "    </tr>\n",
       "    <tr>\n",
       "      <th>2991</th>\n",
       "      <td>./edf/dev_test/03_tcp_ar_a/065/00006546/s013_2...</td>\n",
       "      <td>dev_test</td>\n",
       "      <td>1</td>\n",
       "    </tr>\n",
       "    <tr>\n",
       "      <th>2992</th>\n",
       "      <td>./edf/dev_test/03_tcp_ar_a/065/00006546/s013_2...</td>\n",
       "      <td>dev_test</td>\n",
       "      <td>1</td>\n",
       "    </tr>\n",
       "    <tr>\n",
       "      <th>2993</th>\n",
       "      <td>./edf/dev_test/03_tcp_ar_a/065/00006546/s013_2...</td>\n",
       "      <td>dev_test</td>\n",
       "      <td>1</td>\n",
       "    </tr>\n",
       "    <tr>\n",
       "      <th>2994</th>\n",
       "      <td>./edf/dev_test/03_tcp_ar_a/065/00006546/s015_2...</td>\n",
       "      <td>dev_test</td>\n",
       "      <td>1</td>\n",
       "    </tr>\n",
       "  </tbody>\n",
       "</table>\n",
       "</div>"
      ],
      "text/plain": [
       "                                               Filename       Set  Counts\n",
       "2990  ./edf/dev_test/03_tcp_ar_a/065/00006546/s013_2...  dev_test       1\n",
       "2991  ./edf/dev_test/03_tcp_ar_a/065/00006546/s013_2...  dev_test       1\n",
       "2992  ./edf/dev_test/03_tcp_ar_a/065/00006546/s013_2...  dev_test       1\n",
       "2993  ./edf/dev_test/03_tcp_ar_a/065/00006546/s013_2...  dev_test       1\n",
       "2994  ./edf/dev_test/03_tcp_ar_a/065/00006546/s015_2...  dev_test       1"
      ]
     },
     "metadata": {},
     "output_type": "display_data"
    }
   ],
   "source": [
    "train_files, train_counts = np.unique(df_train['Filename'], return_counts=True)\n",
    "test_files, test_counts = np.unique(df_test['Filename'], return_counts=True)\n",
    "df_repeats = pd.DataFrame({'Filename': train_files, 'Set': 'train', 'Counts': train_counts})\n",
    "df_repeats = df_repeats.append(pd.DataFrame({'Filename': test_files, 'Set': 'dev_test', 'Counts': test_counts}))\n",
    "df_repeats = df_repeats.reset_index(drop=True)\n",
    "display.display(df_repeats.head())\n",
    "display.display(df_repeats.tail())"
   ]
  },
  {
   "cell_type": "markdown",
   "metadata": {},
   "source": [
    "Files with more than 1 entries"
   ]
  },
  {
   "cell_type": "code",
   "execution_count": 167,
   "metadata": {
    "deletable": false,
    "editable": false,
    "hide_input": true,
    "run_control": {
     "frozen": true
    }
   },
   "outputs": [
    {
     "data": {
      "text/html": [
       "<div>\n",
       "<style scoped>\n",
       "    .dataframe tbody tr th:only-of-type {\n",
       "        vertical-align: middle;\n",
       "    }\n",
       "\n",
       "    .dataframe tbody tr th {\n",
       "        vertical-align: top;\n",
       "    }\n",
       "\n",
       "    .dataframe thead th {\n",
       "        text-align: right;\n",
       "    }\n",
       "</style>\n",
       "<table border=\"1\" class=\"dataframe\">\n",
       "  <thead>\n",
       "    <tr style=\"text-align: right;\">\n",
       "      <th></th>\n",
       "      <th>Filename</th>\n",
       "      <th>Counts</th>\n",
       "    </tr>\n",
       "  </thead>\n",
       "  <tbody>\n",
       "    <tr>\n",
       "      <th>20</th>\n",
       "      <td>./edf/train/01_tcp_ar/004/00000492/s003_2003_0...</td>\n",
       "      <td>2</td>\n",
       "    </tr>\n",
       "    <tr>\n",
       "      <th>23</th>\n",
       "      <td>./edf/train/01_tcp_ar/004/00000492/s003_2003_0...</td>\n",
       "      <td>2</td>\n",
       "    </tr>\n",
       "    <tr>\n",
       "      <th>36</th>\n",
       "      <td>./edf/train/01_tcp_ar/008/00000883/s002_2010_0...</td>\n",
       "      <td>10</td>\n",
       "    </tr>\n",
       "    <tr>\n",
       "      <th>94</th>\n",
       "      <td>./edf/train/01_tcp_ar/028/00002806/s001_2004_1...</td>\n",
       "      <td>2</td>\n",
       "    </tr>\n",
       "    <tr>\n",
       "      <th>95</th>\n",
       "      <td>./edf/train/01_tcp_ar/028/00002806/s001_2004_1...</td>\n",
       "      <td>3</td>\n",
       "    </tr>\n",
       "  </tbody>\n",
       "</table>\n",
       "</div>"
      ],
      "text/plain": [
       "                                             Filename  Counts\n",
       "20  ./edf/train/01_tcp_ar/004/00000492/s003_2003_0...       2\n",
       "23  ./edf/train/01_tcp_ar/004/00000492/s003_2003_0...       2\n",
       "36  ./edf/train/01_tcp_ar/008/00000883/s002_2010_0...      10\n",
       "94  ./edf/train/01_tcp_ar/028/00002806/s001_2004_1...       2\n",
       "95  ./edf/train/01_tcp_ar/028/00002806/s001_2004_1...       3"
      ]
     },
     "metadata": {},
     "output_type": "display_data"
    }
   ],
   "source": [
    "df_repeats.loc[df_repeats['Counts']>1, ['Filename', 'Counts']].head())"
   ]
  },
  {
   "cell_type": "markdown",
   "metadata": {},
   "source": [
    "Conclusion: All the files mentioned (.tse, .edf, .lbl) in the Excel sheet are available. No missing data files. Some edf files has multiple seizures"
   ]
  },
  {
   "cell_type": "markdown",
   "metadata": {},
   "source": [
    "## Count total duration of seizures"
   ]
  },
  {
   "cell_type": "code",
   "execution_count": 291,
   "metadata": {
    "deletable": false,
    "editable": false,
    "hide_input": true,
    "run_control": {
     "frozen": true
    }
   },
   "outputs": [
    {
     "data": {
      "text/html": [
       "<div>\n",
       "<style scoped>\n",
       "    .dataframe tbody tr th:only-of-type {\n",
       "        vertical-align: middle;\n",
       "    }\n",
       "\n",
       "    .dataframe tbody tr th {\n",
       "        vertical-align: top;\n",
       "    }\n",
       "\n",
       "    .dataframe thead th {\n",
       "        text-align: right;\n",
       "    }\n",
       "</style>\n",
       "<table border=\"1\" class=\"dataframe\">\n",
       "  <thead>\n",
       "    <tr style=\"text-align: right;\">\n",
       "      <th></th>\n",
       "      <th>File No.</th>\n",
       "      <th>Patient</th>\n",
       "      <th>No. Seizures/File</th>\n",
       "      <th>No. Seizures/Session</th>\n",
       "      <th>Seizure Start Time</th>\n",
       "      <th>Seizure End Time</th>\n",
       "      <th>Seizure Duration</th>\n",
       "    </tr>\n",
       "  </thead>\n",
       "  <tbody>\n",
       "    <tr>\n",
       "      <th>count</th>\n",
       "      <td>2894.000000</td>\n",
       "      <td>579.000000</td>\n",
       "      <td>1984.000000</td>\n",
       "      <td>579.000000</td>\n",
       "      <td>1327.000000</td>\n",
       "      <td>1327.000000</td>\n",
       "      <td>1327.000000</td>\n",
       "    </tr>\n",
       "    <tr>\n",
       "      <th>mean</th>\n",
       "      <td>1046.844851</td>\n",
       "      <td>5904.765112</td>\n",
       "      <td>0.668851</td>\n",
       "      <td>2.291883</td>\n",
       "      <td>462.227348</td>\n",
       "      <td>530.399231</td>\n",
       "      <td>68.171883</td>\n",
       "    </tr>\n",
       "    <tr>\n",
       "      <th>std</th>\n",
       "      <td>564.675533</td>\n",
       "      <td>3285.861459</td>\n",
       "      <td>2.632225</td>\n",
       "      <td>6.206603</td>\n",
       "      <td>507.920353</td>\n",
       "      <td>516.553120</td>\n",
       "      <td>154.411548</td>\n",
       "    </tr>\n",
       "    <tr>\n",
       "      <th>min</th>\n",
       "      <td>1.000000</td>\n",
       "      <td>2.000000</td>\n",
       "      <td>0.000000</td>\n",
       "      <td>0.000000</td>\n",
       "      <td>1.000000</td>\n",
       "      <td>3.104000</td>\n",
       "      <td>2.104000</td>\n",
       "    </tr>\n",
       "    <tr>\n",
       "      <th>25%</th>\n",
       "      <td>564.250000</td>\n",
       "      <td>2868.000000</td>\n",
       "      <td>0.000000</td>\n",
       "      <td>0.000000</td>\n",
       "      <td>97.683750</td>\n",
       "      <td>161.346400</td>\n",
       "      <td>17.537150</td>\n",
       "    </tr>\n",
       "    <tr>\n",
       "      <th>50%</th>\n",
       "      <td>1096.500000</td>\n",
       "      <td>6514.000000</td>\n",
       "      <td>0.000000</td>\n",
       "      <td>0.000000</td>\n",
       "      <td>300.777300</td>\n",
       "      <td>370.110000</td>\n",
       "      <td>34.156200</td>\n",
       "    </tr>\n",
       "    <tr>\n",
       "      <th>75%</th>\n",
       "      <td>1523.750000</td>\n",
       "      <td>8552.000000</td>\n",
       "      <td>0.000000</td>\n",
       "      <td>1.000000</td>\n",
       "      <td>646.016000</td>\n",
       "      <td>736.976000</td>\n",
       "      <td>74.325500</td>\n",
       "    </tr>\n",
       "    <tr>\n",
       "      <th>max</th>\n",
       "      <td>1984.000000</td>\n",
       "      <td>10798.000000</td>\n",
       "      <td>43.000000</td>\n",
       "      <td>71.000000</td>\n",
       "      <td>3402.988300</td>\n",
       "      <td>3474.425800</td>\n",
       "      <td>2448.000000</td>\n",
       "    </tr>\n",
       "  </tbody>\n",
       "</table>\n",
       "</div>"
      ],
      "text/plain": [
       "          File No.       Patient  No. Seizures/File  No. Seizures/Session  \\\n",
       "count  2894.000000    579.000000        1984.000000            579.000000   \n",
       "mean   1046.844851   5904.765112           0.668851              2.291883   \n",
       "std     564.675533   3285.861459           2.632225              6.206603   \n",
       "min       1.000000      2.000000           0.000000              0.000000   \n",
       "25%     564.250000   2868.000000           0.000000              0.000000   \n",
       "50%    1096.500000   6514.000000           0.000000              0.000000   \n",
       "75%    1523.750000   8552.000000           0.000000              1.000000   \n",
       "max    1984.000000  10798.000000          43.000000             71.000000   \n",
       "\n",
       "       Seizure Start Time  Seizure End Time  Seizure Duration  \n",
       "count         1327.000000       1327.000000       1327.000000  \n",
       "mean           462.227348        530.399231         68.171883  \n",
       "std            507.920353        516.553120        154.411548  \n",
       "min              1.000000          3.104000          2.104000  \n",
       "25%             97.683750        161.346400         17.537150  \n",
       "50%            300.777300        370.110000         34.156200  \n",
       "75%            646.016000        736.976000         74.325500  \n",
       "max           3402.988300       3474.425800       2448.000000  "
      ]
     },
     "execution_count": 291,
     "metadata": {},
     "output_type": "execute_result"
    }
   ],
   "source": [
    "df_train.describe()"
   ]
  },
  {
   "cell_type": "code",
   "execution_count": 93,
   "metadata": {
    "deletable": false,
    "editable": false,
    "run_control": {
     "frozen": true
    }
   },
   "outputs": [
    {
     "name": "stdout",
     "output_type": "stream",
     "text": [
      "10.892648721301533\n",
      "177.37530127869857\n",
      "207\n"
     ]
    }
   ],
   "source": [
    "outliers, min_index, max_index, min_C, max_C = detect_outliers(df_train['Seizure Duration'].values, \n",
    "                                                               percentile=[95, 25],\n",
    "                                                               return_index=True, return_threshold=True)\n",
    "print(min_C)\n",
    "print(max_C)\n",
    "print(len(outliers))"
   ]
  },
  {
   "cell_type": "code",
   "execution_count": 193,
   "metadata": {
    "deletable": false,
    "editable": false,
    "run_control": {
     "frozen": true
    }
   },
   "outputs": [
    {
     "data": {
      "text/plain": [
       "60986.689300000005"
      ]
     },
     "execution_count": 193,
     "metadata": {},
     "output_type": "execute_result"
    }
   ],
   "source": [
    "df_test['Seizure Duration'].sum()"
   ]
  },
  {
   "cell_type": "code",
   "execution_count": 125,
   "metadata": {
    "deletable": false,
    "editable": false,
    "hide_input": true,
    "run_control": {
     "frozen": true
    }
   },
   "outputs": [],
   "source": [
    "# Remove nans\n",
    "durations = df['Seizure Duration'].values[~np.isnan(df['Seizure Duration'])]"
   ]
  },
  {
   "cell_type": "code",
   "execution_count": 171,
   "metadata": {
    "deletable": false,
    "editable": false,
    "hide_input": true,
    "run_control": {
     "frozen": true
    }
   },
   "outputs": [
    {
     "data": {
      "image/png": "[encoded data removed]",
      "text/plain": [
       "<Figure size 1080x288 with 3 Axes>"
      ]
     },
     "metadata": {
      "needs_background": "light"
     },
     "output_type": "display_data"
    }
   ],
   "source": [
    "warnings.filterwarnings('ignore')\n",
    "fig = plt.figure(figsize=(15,4))\n",
    "plt.subplot(1,3,1)\n",
    "sns.distplot(durations)\n",
    "plt.subplot(1,3,2)\n",
    "sns.distplot(durations[durations<500], bins=50)\n",
    "plt.subplot(1,3,3)\n",
    "sns.distplot(durations[durations<100], bins=50)\n",
    "_ = [ax.set_xlabel('Durations (s)') for ax in fig.axes]\n",
    "_ = plt.suptitle(\"Distribution of durations within the data set\")"
   ]
  },
  {
   "cell_type": "markdown",
   "metadata": {},
   "source": [
    "# Classification of seizure vs. non-seizure EEG using Dynamic Time Warping (DWT)\n",
    "\n",
    "Using a simple method to normalize the time series before doing classification, with K-nearest neighbor.\n",
    "\n",
    "## Data Preparation\n",
    "Separating time series into periods of seizure vs. non-seizure. Classify into 10 types of seizures (FNSZ, GNSZ, SPSZ, CPSZ, ABSZ, TNSZ, CNSZ, TCSZ, ATSZ, MYSZ) plus the non-seizure. To balance the data, only take 500 samples of non-seizure events (given 1327 total seizure events).\n"
   ]
  },
  {
   "cell_type": "code",
   "execution_count": 12,
   "metadata": {
    "deletable": false,
    "editable": false,
    "run_control": {
     "frozen": true
    }
   },
   "outputs": [
    {
     "name": "stdout",
     "output_type": "stream",
     "text": [
      "2.8284271247461903\n"
     ]
    }
   ],
   "source": [
    "from scipy.spatial.distance import euclidean\n",
    "from fastdtw import fastdtw\n",
    "from collections import Counter\n",
    "\n",
    "\n",
    "\n",
    "x = np.array([[1,1], [2,2], [3,3], [4,4], [5,5]])\n",
    "y = np.array([[2,2], [3,3], [4,4]])\n",
    "distance, path = fastdtw(x, y, dist=euclidean)\n",
    "print(distance)"
   ]
  },
  {
   "cell_type": "code",
   "execution_count": null,
   "metadata": {
    "deletable": false,
    "editable": false,
    "run_control": {
     "frozen": true
    }
   },
   "outputs": [],
   "source": [
    "def DWT_KNN(data, predict, k=3, distance=euclidean):\n",
    "  if len(data)>=k: # number of neighbors used is necessarily greater than number of groups\n",
    "    warning.warn('K is set to a value less than total voting groups!')\n",
    "\n",
    "  # Training: Find the distances between the test data and training data\n",
    "  distances = []\n",
    "  for group in data: # iterate over key\n",
    "    for features in data[group]:\n",
    "      dwt_distance = np.sqrt( np.sum( (np.asarray(features) - np.asarray(predict))**2  ) )\n",
    "      # euclidean_distance = np.linalg.norm(np.asarray(features) - np.asarray(predict))\n",
    "      distances.append([dwt_distance, group])\n",
    "\n",
    "  # Test: find K nearest neighbors. Sort\n",
    "  # First sort the distances from smallest to the largest,\n",
    "  # and then take the top k distances, then look at which groups those top\n",
    "  # k distances belong to\n",
    "  votes = [i[1] for i in sorted(distances)[:k]]\n",
    "  # Count the most common groups\n",
    "  vote_result = Counter(votes).most_common(1)[0][0] # return most common 1\n",
    "  # Confidence: number of counts / k neighbors\n",
    "  confidence = Counter(votes).most_common(1)[0][1] / k\n",
    "\n",
    "  return vote_result, confidence"
   ]
  },
  {
   "cell_type": "markdown",
   "metadata": {},
   "source": [
    "# Classification of seizure vs. non-seizure EEG using a 2D convolutional neural network (2D)\n",
    "\n",
    "## Data Preparation\n",
    "\n",
    "The minimum duration of the training set is 16 seconds, the maximum duration is about 3000 seconds.\n",
    "\n",
    "The duration of the seizure is minimum 2 seconds and maximum 2448 seconds.\n",
    "\n",
    "I will \"divide\" the EEG spectrograms (0.5 second window, 128 frequencies, 19 channels) into 10 seconds chunks. This will yield a 20 x 128 x 19 matrix to feed into a 2D convolutional neural network for classification (inspired by [CNN Architectures for Large-Scale Audio Classification](https://arxiv.org/abs/1609.09430)). Essentially, the resulting trained model will be able to distinguish between seizure vs. non-seizure events given a 10-second EEG recording. Future application could be trained on shorter window for faster detection.\n",
    "\n",
    "The \"divide\" part can be done in two ways: one deterministic and one by sampling. \n",
    "\n",
    "The deterministic way is the following: given a recording of duration D (e.g. 300 seconds of EEG recording), sample a window W (e.g. 10 seconds) from the beginning, either with overlapping of d (say 1 seconds, i.e. each successive window overlaps each other by 1 second), until reaching the end of the recording. Discard the last window less than W, or sample a window W backwards from the end. This will yield a total `floor(D / (W-d))` windows (plus 1 if choose to sample backwards).\n",
    "\n",
    "The sampling way is the following: take total N samples from the entire dataset of total duration L. For each recording of duration D, take `round(D / L * N)` samples from the recording, uniformly across time.\n",
    "\n",
    "We would need a lot of samples to train a proper neural network. The original MNIST dataset has 60,000 training images of 28 x 28, and 10,000 test images. The extended MNIST data (EMNIST) has 240,000 training images and 40,000 test images ([MNIST database](https://en.wikipedia.org/wiki/MNIST_database), a 4-fold augmentation. The training set has a total duration of 1186842 seconds, meaning a 10-second window with non-overlapping deterministic sampling would yield about 100,000 training samples. Since the seizure duration is 90464 seconds, there should be about 9,000 seizure samples. The test set has a total duration of 613232 seconds, and should yield about 60,000 test samples. Since the seizure duration is 60986, this should yield about 6,000 seizure test samples. The data can be futher augmented, of course, when adding overlapping windows.\n",
    "\n",
    "The size of each sample should be kept small. The 20 x 128 x 19 matrix can be quite large (48640 points) in comparison to the MNIST dataset images (784 points). WE can discard the frequencies above 80 Hz, given that 1) most seizures occur at theta band frequencies (4-8 Hz, https://www.ncbi.nlm.nih.gov/pmc/articles/PMC2936439/) 2) the highest frequency in the brain is the gamma band (30-80 Hz, https://journals.plos.org/plosbiology/article?id=10.1371/journal.pbio.1001045), and 3) the previous exploratory spectrogram plots revealed little to no activity at high frequencies above 60 Hz. The resulting matrix is now 20 x 80 x 19 (30400 points), about 37.5% reduction of data."
   ]
  },
  {
   "cell_type": "markdown",
   "metadata": {},
   "source": [
    "[Multivariate LSTM-FCNs for Time Series Classificatio](https://arxiv.org/pdf/1801.04503.pdf)\n",
    "\n",
    "[LSTM Fully Convolutional Networks for Time Series Classification](https://ieeexplore.ieee.org/stamp/stamp.jsp?arnumber=8141873)"
   ]
  },
  {
   "cell_type": "code",
   "execution_count": 2,
   "metadata": {
    "code_folding": [
     36
    ],
    "deletable": false,
    "editable": false,
    "hide_input": true
   },
   "outputs": [],
   "source": [
    "# Make the data\n",
    "def makeSpectrogram(eeg_data, channels, fs=256, window='hann', T=1, ts=0.5):\n",
    "    \"\"\"\n",
    "    eeg_data\n",
    "    channels: list of subset of channels \n",
    "    fs: samples per second.\n",
    "    window: spectral window type. Default 'hann'\n",
    "    T: window size (sec). Default 1 second\n",
    "    ts: time resolution (sec). Deafult 0.5 second\n",
    "    \"\"\"\n",
    "    \n",
    "    warnings.filterwarnings(\"ignore\")\n",
    "    # Parse labels\n",
    "    labels = [ll.replace(\"EEG \",\"\").replace(\"-REF\",\"\").replace(\"-LE\",\"\") \\\n",
    "                for ll in eeg_data.header.labels]\n",
    "    \n",
    "    # channel by time_index \n",
    "    wdata = np.empty((len(channels), eeg_data.header.num_records * fs))\n",
    "    # Make a matrix of the data\n",
    "    for n, c in enumerate(channels):\n",
    "        index = labels.index(c)\n",
    "        if eeg_data.header.sample_rate[n] != fs:\n",
    "            wdata[n, :] = signal.resample(eeg_data.data[index], eeg_data.header.num_records * fs)\n",
    "        else:\n",
    "            wdata[n, :] = eeg_data.data[index]\n",
    "        \n",
    "    # Apply the notch filter to filter out 60 Hz artifacts\n",
    "    b, a = signal.iirnotch(60 / (fs/2), 30)\n",
    "    wdata = signal.filtfilt(b, a, wdata, axis=1)\n",
    "    \n",
    "    # Make spectrogram\n",
    "    frequencies, times, spectrogram = signal.spectrogram(wdata, fs, window=window,\n",
    "                                                        nperseg=int(fs*T), noverlap=int(fs*(T-ts)))\n",
    "    \n",
    "    return frequencies, times, spectrogram # channels x frequencies x times\n",
    "\n",
    "def tileSampleSpectrogram(frequencies, times, spectrogram, subset_time=None, subset_freq=None, \n",
    "                          duration=50, lag=0, sample_end=True, calculation_only=False):\n",
    "    \"\"\"\n",
    "    Sample the spectrogram, given the returned frequencies, times, and \n",
    "    spectrogram (channels x frequencies x times), as well as\n",
    "    * subset_time: use a subset of time window [start_sec, end_sec] to sample within\n",
    "    * subset_freq: use a subset of frequencies [start_freq, end_freq]\n",
    "    * duration: duration of each sample in seconds\n",
    "    * lag: overlapping between each successive windows, in seconds\n",
    "    * sample_end: whether or not to do backward 1 sample when the last sample leaks\n",
    "    * calculation_only: return only the shape of the resulting matrix\n",
    "    \"\"\"    \n",
    "    if subset_time is not None:\n",
    "        a = np.where(times <= subset_time[0])[0][-1] # last point less than\n",
    "        if not a: a = 0\n",
    "        b = np.where(times >= subset_time[1])[0][0] # first point greater than\n",
    "        if not b: b = None\n",
    "        spectrogram = spectrogram[:, :, a:b]\n",
    "        times = times[a:b]\n",
    "    if subset_freq is not None:\n",
    "        a = np.where(frequencies <= subset_freq[0])[0][-1] # last point less than\n",
    "        if not a: a = 0\n",
    "        b = np.where(frequencies >= subset_freq[1])[0][0]+1 # first point greater than\n",
    "        if not b: b = None\n",
    "        spectrogram = spectrogram[:, a:b, :]\n",
    "        frequencies = frequencies[a:b]\n",
    "        \n",
    "    ts = times[1] - times[0] # sampling rate of the spectrogram\n",
    "    \n",
    "    # Calculate the shape of the resulting matrix after sampling\n",
    "    shapes = list(spectrogram.shape)\n",
    "    shapes[2] = int(duration / ts) # time points\n",
    "    shapes.append(int(np.floor((times[-1]-times[0]+ts) / (duration - lag)) + sample_end))\n",
    "    \n",
    "    if calculation_only: # only calculate the shape of the resultign matrix\n",
    "        return shapes\n",
    "    \n",
    "    wdata = np.empty(shapes)\n",
    "    wtime = np.empty(shapes[2:])\n",
    "    start_time = times[0]\n",
    "    #print(wdata.shape)\n",
    "    \n",
    "    for i in range(shapes[-1]):\n",
    "        end_time = start_time - ts + duration\n",
    "        if end_time > times[-1]: break\n",
    "        start_index = np.where(np.abs(times - start_time) < 1E-6)[0][0]\n",
    "        end_index = np.where(np.abs(times - end_time) < 1E-6)[0][0]+1\n",
    "        #print('start:', start_time, 'end:', end_time)\n",
    "        #print('starti:', start_index, 'endi:', end_index)\n",
    "        wdata[:, :, :, i] = spectrogram[:, :, start_index:end_index]\n",
    "        wtime[:, i] = times[start_index:end_index]\n",
    "        start_time = end_time - lag + ts\n",
    "        \n",
    "    if end_time > times[-1] and sample_end: # back sample 1\n",
    "        end_time = times[-1]\n",
    "        start_time = end_time - duration + ts\n",
    "        start_index = np.where(np.abs(times - start_time) < 1E-6)[0][0]\n",
    "        end_index = np.where(np.abs(times - end_time) < 1E-6)[0][0]+1\n",
    "        #print('start:', start_time, 'end:', end_time)\n",
    "        #print('starti:', start_index, 'endi:', end_index)\n",
    "        wdata[:, :, :, -1] = spectrogram[:, :, start_index:end_index]\n",
    "        wtime[:, -1] = times[start_index:end_index]\n",
    "\n",
    "    return frequencies, wtime, wdata # channel x frequency x time x subsets    \n",
    "    "
   ]
  },
  {
   "cell_type": "code",
   "execution_count": 284,
   "metadata": {
    "deletable": false,
    "editable": false,
    "hide_input": true,
    "run_control": {
     "frozen": true
    }
   },
   "outputs": [
    {
     "data": {
      "text/plain": [
       "[19, 81, 20, 23]"
      ]
     },
     "execution_count": 284,
     "metadata": {},
     "output_type": "execute_result"
    }
   ],
   "source": [
    "eeg_data = EDF(P_train[13])    \n",
    "frequencies, times, spectrogram = makeSpectrogram(eeg_data, channels=channels)\n",
    "frequencies_sub, times_sub, spectrograms_sub = tileSampleSpectrogram(frequencies, times, spectrogram, \n",
    "                          subset_time=None, subset_freq=[0, 80], duration=10, lag=2, sample_end=True)\n",
    "tileSampleSpectrogram(frequencies, times, spectrogram, \n",
    "                      subset_time=None, subset_freq=[0, 80], duration=10, lag=2, sample_end=True, \n",
    "                      calculation_only=True)"
   ]
  },
  {
   "cell_type": "markdown",
   "metadata": {},
   "source": [
    "The tiling sample method is going to separate the spectrograms into 3 categories: 1) tiles from non-seizure recordings (\"non-seizure\"); 2) tiles from seizure recordings, during seizure period (seizure type, e.g. \"SPSZ\"); and 3) tiles from seizure recordings, during non-seizure period (\"background\")."
   ]
  },
  {
   "cell_type": "code",
   "execution_count": 3,
   "metadata": {
    "deletable": false,
    "editable": false,
    "hide_input": true
   },
   "outputs": [],
   "source": [
    " # base directory of the project\n",
    "# Where to save the project\n",
    "def run_data_creation(P, df, duration=10, lag=2, sample_end=True, subset_freq=[0, 80], \n",
    "                      fs=256, window='hann', T=1, ts=0.5, \n",
    "                      basedir = '/Volumes/Storage/TUH_EEG',\n",
    "                      savedir = '/Volumes/Storage/TUH_EEG',\n",
    "                      channels = ['T4', 'O1', 'F8', 'FZ', 'P4', 'F4', 'F3', 'FP2', 'O2', \n",
    "                                  'T6', 'CZ', 'PZ', 'F7', 'C3', 'P3', 'T5', 'C4', 'T3', 'FP1']):\n",
    "    fid = open(os.path.join(savedir, \"progress.csv\"), \"w\")\n",
    "    fid.write(\",\".join([\"Path\", \"Seizure Type\", \"\\n\"]))\n",
    "    l = len(P)\n",
    "    printProgressBar(0, l, prefix = 'Progress:', suffix = 'Complete', length = 50)\n",
    "    for i, p in enumerate(P):\n",
    "        printProgressBar(i+1, l, prefix = 'Progress:', suffix = 'Complete', length = 50)\n",
    "        # Subsetting the spectrogram\n",
    "        eeg_data = EDF(p)\n",
    "        frequencies, times, spectrogram = makeSpectrogram(eeg_data, channels=channels, fs=fs, window=window,\n",
    "                                                         T=T, ts=ts)\n",
    "        frequencies_sub, times_sub, spectrograms_sub = tileSampleSpectrogram(frequencies, times, spectrogram, \n",
    "                          subset_time=None, subset_freq=subset_freq, duration=duration, lag=lag, \n",
    "                          sample_end=sample_end)\n",
    "        # Parse the tile\n",
    "        q = p.replace(basedir, \"./edf\").replace(\".edf\", \".tse\")\n",
    "        df_subset = df.loc[df['Filename']==q, :].reset_index(drop=True)\n",
    "        \n",
    "        # Looping over all the tiles\n",
    "        for t in range(spectrograms_sub.shape[3]): # for each tile\n",
    "            savepath = q.split(\"/\")\n",
    "            savepath[2] = savepath[2]+ \"_spectrogram\" #(\"_nolabel_spectrogram\" if df_subset.shape[0] == 0 else \"_spectrogram\")\n",
    "            savepath = \"/\".join(savepath)\n",
    "            savepath = savepath.replace(\"./edf\", savedir)\n",
    "\n",
    "            if df_subset.shape[0] == 0:\n",
    "                seizure_type = \"no label\"\n",
    "            else:\n",
    "                for j in range(df_subset.shape[0]):\n",
    "                    if np.isnan(df_subset.loc[j, 'Seizure Duration']):\n",
    "                        seizure_type = \"non-seizure\"\n",
    "                    else: # has seizure\n",
    "                        if times_sub[:, t][0]<=df_subset.loc[j, 'Seizure End Time'] and \\\n",
    "                           times_sub[:, t][-1]>=df_subset.loc[j, 'Seizure Start Time']: \n",
    "                            # within seizure period: (StartA <= EndB) and (EndA >= StartB)\n",
    "                            seizure_type = df_subset.loc[j, 'Seizure Type']\n",
    "                            break\n",
    "                        else: # outside of seizure period\n",
    "                            seizure_type = 'background'\n",
    "\n",
    "            current_savepath = savepath.replace(\".tse\", \"_{:04d}.npz\".format(t))\n",
    "            current_folder = os.path.dirname(current_savepath)\n",
    "\n",
    "            if not os.path.isdir(current_folder):\n",
    "                os.makedirs(current_folder, exist_ok=True)\n",
    "\n",
    "            np.savez_compressed(current_savepath, file_ref=q, \n",
    "                     frequencies=frequencies_sub, times=times_sub[:, t], \n",
    "                     spectrogram=spectrograms_sub[:, :, :, t].squeeze(), \n",
    "                     seizure_type=seizure_type)\n",
    "            \n",
    "            fid.write(\",\".join([current_savepath, seizure_type, \"\\n\"]))\n",
    "            \n",
    "    fid.close()"
   ]
  },
  {
   "cell_type": "code",
   "execution_count": 378,
   "metadata": {
    "deletable": false,
    "editable": false,
    "run_control": {
     "frozen": true
    }
   },
   "outputs": [
    {
     "name": "stdout",
     "output_type": "stream",
     "text": [
      "Progress: |██████████████████████████████████████████████████| 100.0% Complete\n",
      "Finished\n",
      "CPU times: user 1h 33min 5s, sys: 12min 54s, total: 1h 46min\n",
      "Wall time: 9h 8min 42s\n"
     ]
    }
   ],
   "source": [
    "%%time\n",
    "run_data_creation(P_train, df_train)\n",
    "print('Finished')"
   ]
  },
  {
   "cell_type": "code",
   "execution_count": 381,
   "metadata": {
    "deletable": false,
    "editable": false,
    "run_control": {
     "frozen": true
    }
   },
   "outputs": [
    {
     "name": "stdout",
     "output_type": "stream",
     "text": [
      "Progress: |██████████████████████████████████████████████████| 100.0% Complete\n",
      "CPU times: user 41min 57s, sys: 7min 2s, total: 48min 59s\n",
      "Wall time: 2h 46min 36s\n"
     ]
    }
   ],
   "source": [
    "%%time\n",
    "run_data_creation(P_test, df_test)"
   ]
  },
  {
   "cell_type": "markdown",
   "metadata": {},
   "source": [
    "### Organize the csv file a little"
   ]
  },
  {
   "cell_type": "code",
   "execution_count": 419,
   "metadata": {
    "deletable": false,
    "editable": false,
    "run_control": {
     "frozen": true
    }
   },
   "outputs": [],
   "source": [
    "import time\n",
    "def organize_spectrogram_csv(df):\n",
    "    df['Path_base'] = [p[:-9] for p in df['Path']]\n",
    "    C, IC, counts = np.unique(df['Path_base'], return_inverse=True, return_counts=True)\n",
    "    df['Num'] = IC\n",
    "    df['Num Tiles'] = np.nan\n",
    "    \n",
    "    l = df.shape[0]\n",
    "    printProgressBar(0, l, prefix = 'Progress:', suffix = 'Complete', length = 50, mode=\"counts\")\n",
    "    for i in df.index:\n",
    "        printProgressBar(i+1, l, prefix = 'Progress:', suffix = 'Complete', length = 50, mode=\"counts\")\n",
    "        df.loc[i, 'Num Tiles'] = counts[df_spec_train.loc[i, 'Num']]\n",
    "        time.sleep(0.001)\n",
    "\n",
    "    df = df[['Num', 'Path', 'Seizure Type', 'Num Tiles']]\n",
    "    return df\n"
   ]
  },
  {
   "cell_type": "code",
   "execution_count": 5,
   "metadata": {
    "deletable": false,
    "editable": false,
    "run_control": {
     "frozen": true
    }
   },
   "outputs": [],
   "source": [
    "csv_file = os.path.join(basedir, '_DOCS', 'train_spectrogram_labels.csv')\n",
    "df_spec_train = pd.read_csv(csv_file)\n",
    "df_spec_train = organize_spectrogram_csv(df_spec_train)\n",
    "df_spec_train.to_csv(csv_file, index=False)\n",
    "df_spec_train.head()"
   ]
  },
  {
   "cell_type": "code",
   "execution_count": 420,
   "metadata": {
    "deletable": false,
    "editable": false,
    "run_control": {
     "frozen": true
    }
   },
   "outputs": [
    {
     "name": "stdout",
     "output_type": "stream",
     "text": [
      "endedess:  |██████████████████████████████████████████████████| 77239 / 77239 Complete\n"
     ]
    },
    {
     "data": {
      "text/html": [
       "<div>\n",
       "<style scoped>\n",
       "    .dataframe tbody tr th:only-of-type {\n",
       "        vertical-align: middle;\n",
       "    }\n",
       "\n",
       "    .dataframe tbody tr th {\n",
       "        vertical-align: top;\n",
       "    }\n",
       "\n",
       "    .dataframe thead th {\n",
       "        text-align: right;\n",
       "    }\n",
       "</style>\n",
       "<table border=\"1\" class=\"dataframe\">\n",
       "  <thead>\n",
       "    <tr style=\"text-align: right;\">\n",
       "      <th></th>\n",
       "      <th>Num</th>\n",
       "      <th>Path</th>\n",
       "      <th>Seizure Type</th>\n",
       "      <th>Num Tiles</th>\n",
       "    </tr>\n",
       "  </thead>\n",
       "  <tbody>\n",
       "    <tr>\n",
       "      <th>0</th>\n",
       "      <td>0</td>\n",
       "      <td>/Volumes/Storage/TUH_EEG/dev_test_spectrogram/...</td>\n",
       "      <td>non-seizure</td>\n",
       "      <td>3.0</td>\n",
       "    </tr>\n",
       "    <tr>\n",
       "      <th>1</th>\n",
       "      <td>0</td>\n",
       "      <td>/Volumes/Storage/TUH_EEG/dev_test_spectrogram/...</td>\n",
       "      <td>non-seizure</td>\n",
       "      <td>3.0</td>\n",
       "    </tr>\n",
       "    <tr>\n",
       "      <th>2</th>\n",
       "      <td>0</td>\n",
       "      <td>/Volumes/Storage/TUH_EEG/dev_test_spectrogram/...</td>\n",
       "      <td>non-seizure</td>\n",
       "      <td>3.0</td>\n",
       "    </tr>\n",
       "    <tr>\n",
       "      <th>3</th>\n",
       "      <td>1</td>\n",
       "      <td>/Volumes/Storage/TUH_EEG/dev_test_spectrogram/...</td>\n",
       "      <td>background</td>\n",
       "      <td>34.0</td>\n",
       "    </tr>\n",
       "    <tr>\n",
       "      <th>4</th>\n",
       "      <td>1</td>\n",
       "      <td>/Volumes/Storage/TUH_EEG/dev_test_spectrogram/...</td>\n",
       "      <td>TCSZ</td>\n",
       "      <td>34.0</td>\n",
       "    </tr>\n",
       "  </tbody>\n",
       "</table>\n",
       "</div>"
      ],
      "text/plain": [
       "   Num                                               Path Seizure Type  \\\n",
       "0    0  /Volumes/Storage/TUH_EEG/dev_test_spectrogram/...  non-seizure   \n",
       "1    0  /Volumes/Storage/TUH_EEG/dev_test_spectrogram/...  non-seizure   \n",
       "2    0  /Volumes/Storage/TUH_EEG/dev_test_spectrogram/...  non-seizure   \n",
       "3    1  /Volumes/Storage/TUH_EEG/dev_test_spectrogram/...   background   \n",
       "4    1  /Volumes/Storage/TUH_EEG/dev_test_spectrogram/...         TCSZ   \n",
       "\n",
       "   Num Tiles  \n",
       "0        3.0  \n",
       "1        3.0  \n",
       "2        3.0  \n",
       "3       34.0  \n",
       "4       34.0  "
      ]
     },
     "execution_count": 420,
     "metadata": {},
     "output_type": "execute_result"
    }
   ],
   "source": [
    "csv_file = os.path.join(basedir, '_DOCS', 'dev_test_spectrogram_labels.csv')\n",
    "df_spec_test = pd.read_csv(csv_file)\n",
    "df_spec_test = organize_spectrogram_csv(df_spec_test)\n",
    "df_spec_test.to_csv(csv_file, index=False)\n",
    "df_spec_test.head()"
   ]
  },
  {
   "cell_type": "markdown",
   "metadata": {},
   "source": [
    "### Explore the distribution of number of tiles in the non-seizure recordings"
   ]
  },
  {
   "cell_type": "code",
   "execution_count": 5,
   "metadata": {
    "deletable": false,
    "editable": false,
    "hide_input": false,
    "run_control": {
     "frozen": true
    }
   },
   "outputs": [
    {
     "data": {
      "text/html": [
       "<div>\n",
       "<style scoped>\n",
       "    .dataframe tbody tr th:only-of-type {\n",
       "        vertical-align: middle;\n",
       "    }\n",
       "\n",
       "    .dataframe tbody tr th {\n",
       "        vertical-align: top;\n",
       "    }\n",
       "\n",
       "    .dataframe thead th {\n",
       "        text-align: right;\n",
       "    }\n",
       "</style>\n",
       "<table border=\"1\" class=\"dataframe\">\n",
       "  <thead>\n",
       "    <tr style=\"text-align: right;\">\n",
       "      <th></th>\n",
       "      <th>Num</th>\n",
       "      <th>Seizure Type</th>\n",
       "      <th>Path</th>\n",
       "      <th>Num Tiles</th>\n",
       "    </tr>\n",
       "  </thead>\n",
       "  <tbody>\n",
       "    <tr>\n",
       "      <th>2378</th>\n",
       "      <td>1734</td>\n",
       "      <td>non-seizure</td>\n",
       "      <td>7</td>\n",
       "      <td>7</td>\n",
       "    </tr>\n",
       "    <tr>\n",
       "      <th>2379</th>\n",
       "      <td>1732</td>\n",
       "      <td>non-seizure</td>\n",
       "      <td>30</td>\n",
       "      <td>30</td>\n",
       "    </tr>\n",
       "    <tr>\n",
       "      <th>2380</th>\n",
       "      <td>1733</td>\n",
       "      <td>non-seizure</td>\n",
       "      <td>47</td>\n",
       "      <td>47</td>\n",
       "    </tr>\n",
       "    <tr>\n",
       "      <th>2381</th>\n",
       "      <td>1737</td>\n",
       "      <td>non-seizure</td>\n",
       "      <td>47</td>\n",
       "      <td>47</td>\n",
       "    </tr>\n",
       "    <tr>\n",
       "      <th>2382</th>\n",
       "      <td>1736</td>\n",
       "      <td>non-seizure</td>\n",
       "      <td>7</td>\n",
       "      <td>7</td>\n",
       "    </tr>\n",
       "  </tbody>\n",
       "</table>\n",
       "</div>"
      ],
      "text/plain": [
       "       Num Seizure Type  Path  Num Tiles\n",
       "2378  1734  non-seizure     7          7\n",
       "2379  1732  non-seizure    30         30\n",
       "2380  1733  non-seizure    47         47\n",
       "2381  1737  non-seizure    47         47\n",
       "2382  1736  non-seizure     7          7"
      ]
     },
     "execution_count": 5,
     "metadata": {},
     "output_type": "execute_result"
    }
   ],
   "source": [
    "basedir = '/Volumes/Storage/TUH_EEG/'\n",
    "csv_file = os.path.join(basedir, '_DOCS', 'train_spectrogram_labels.csv')\n",
    "df_spec_train = pd.read_csv(csv_file)\n",
    "\n",
    "df_spec_train.loc[np.logical_and(df_spec_train['Seizure Type'] != 'background',\n",
    "                 df_spec_train['Seizure Type'] != \"non-seizure\"), \"Seizure Type\"] = \"seizure\"\n",
    "\n",
    "gp = df_spec_train.groupby(by=['Num', 'Seizure Type'], as_index=False, sort=False)\n",
    "Summary = gp.count()\n",
    "Summary.tail()"
   ]
  },
  {
   "cell_type": "code",
   "execution_count": 448,
   "metadata": {
    "deletable": false,
    "editable": false,
    "hide_input": true,
    "run_control": {
     "frozen": true
    }
   },
   "outputs": [
    {
     "data": {
      "image/png": "[encoded data removed]",
      "text/plain": [
       "<Figure size 1080x216 with 3 Axes>"
      ]
     },
     "metadata": {
      "needs_background": "light"
     },
     "output_type": "display_data"
    }
   ],
   "source": [
    "fig = plt.figure(figsize=(15, 3))\n",
    "plt.subplot(1, 3, 1)\n",
    "F = Summary.loc[Summary['Seizure Type']=='non-seizure', 'Num Tiles']\n",
    "sns.distplot(F)\n",
    "_ = plt.title('Non Seizure (Total {:d})'.format(F.sum()))\n",
    "plt.subplot(1, 3, 2)\n",
    "F = Summary.loc[Summary['Seizure Type']=='background', 'Num Tiles']\n",
    "sns.distplot(F)\n",
    "_ = plt.title('Background (Total {:d})'.format(F.sum()))\n",
    "plt.subplot(1, 3, 3)\n",
    "F = Summary.loc[Summary['Seizure Type']=='seizure', 'Num Tiles']\n",
    "sns.distplot(F)\n",
    "_ = plt.title('Seizure (Total {:d})'.format(F.sum()))\n",
    "_ = plt.suptitle(\"Data distribution\", y=1.1, fontweight='bold')"
   ]
  },
  {
   "cell_type": "code",
   "execution_count": null,
   "metadata": {
    "deletable": false,
    "editable": false,
    "run_control": {
     "frozen": true
    }
   },
   "outputs": [],
   "source": [
    "Summary_non_seizure = Summary.loc[np.logical_and.reduce([Summary['Seizure Type'] == 'non-seizure', \n",
    "                           Summary['Num Tiles']>25, Summary['Num Tiles']<40]), :]\n",
    "print(\"non-seizure:\", Summary_non_seizure['Num Tiles'].sum())\n",
    "Summary_background = Summary.loc[np.logical_and.reduce([Summary['Seizure Type'] == 'background', \n",
    "                           Summary['Num Tiles']>25, Summary['Num Tiles']<125]), :]\n",
    "print(\"background:\", Summary_background['Num Tiles'].sum())"
   ]
  },
  {
   "cell_type": "markdown",
   "metadata": {},
   "source": [
    "Conclusion: Apply a filter such that num tiles between 25 and 40 is used for non-seizure (14769 samples). For the dataset with seizures, randomly take 50% of the background periods. This shoudl help mitigate the unbalanced data problem."
   ]
  },
  {
   "cell_type": "markdown",
   "metadata": {},
   "source": [
    "### Make the balanced subset of training data"
   ]
  },
  {
   "cell_type": "code",
   "execution_count": 13,
   "metadata": {
    "deletable": false,
    "editable": false,
    "run_control": {
     "frozen": true
    }
   },
   "outputs": [
    {
     "data": {
      "text/plain": [
       "(14769, 4)"
      ]
     },
     "execution_count": 13,
     "metadata": {},
     "output_type": "execute_result"
    }
   ],
   "source": [
    "csv_file = os.path.join(basedir, '_DOCS', 'train_spectrogram_labels.csv')\n",
    "df_spec_train = pd.read_csv(csv_file)\n",
    "df_non_seizure = df_spec_train.loc[np.logical_and(df_spec_train['Seizure Type']=='non-seizure',\n",
    "                                    [df_spec_train.loc[i, 'Num'] in Summary_non_seizure['Num'].values \\\n",
    "                                     for i in df_spec_train.index]), :]\n",
    "\n",
    "df_non_seizure.shape"
   ]
  },
  {
   "cell_type": "code",
   "execution_count": 9,
   "metadata": {
    "deletable": false,
    "editable": false,
    "run_control": {
     "frozen": true
    }
   },
   "outputs": [
    {
     "data": {
      "text/plain": [
       "(13446, 4)"
      ]
     },
     "execution_count": 9,
     "metadata": {},
     "output_type": "execute_result"
    }
   ],
   "source": [
    "df_background = df_spec_train.loc[df_spec_train['Seizure Type']=='background']\n",
    "np.random.seed(42)\n",
    "for n in df_background['Num'].unique():\n",
    "    indices = df_background.loc[df_background['Num']==n, :].index\n",
    "    if len(indices) < 2:\n",
    "        continue # keep evreything\n",
    "    selected_indices = np.random.choice(indices, size=(len(indices)//2), replace=False)\n",
    "    df_background = df_background.drop(index=selected_indices)\n",
    "\n",
    "df_background.shape\n",
    "    "
   ]
  },
  {
   "cell_type": "code",
   "execution_count": 14,
   "metadata": {
    "deletable": false,
    "editable": false,
    "run_control": {
     "frozen": true
    }
   },
   "outputs": [
    {
     "data": {
      "text/plain": [
       "(12716, 4)"
      ]
     },
     "execution_count": 14,
     "metadata": {},
     "output_type": "execute_result"
    }
   ],
   "source": [
    "df_seizure = df_spec_train.loc[np.logical_and(df_spec_train['Seizure Type']!='background', \\\n",
    "                                          df_spec_train['Seizure Type']!= 'non-seizure'), :]\n",
    "df_seizure.shape"
   ]
  },
  {
   "cell_type": "code",
   "execution_count": 17,
   "metadata": {
    "deletable": false,
    "editable": false,
    "run_control": {
     "frozen": true
    }
   },
   "outputs": [
    {
     "data": {
      "text/html": [
       "<div>\n",
       "<style scoped>\n",
       "    .dataframe tbody tr th:only-of-type {\n",
       "        vertical-align: middle;\n",
       "    }\n",
       "\n",
       "    .dataframe tbody tr th {\n",
       "        vertical-align: top;\n",
       "    }\n",
       "\n",
       "    .dataframe thead th {\n",
       "        text-align: right;\n",
       "    }\n",
       "</style>\n",
       "<table border=\"1\" class=\"dataframe\">\n",
       "  <thead>\n",
       "    <tr style=\"text-align: right;\">\n",
       "      <th></th>\n",
       "      <th>Num</th>\n",
       "      <th>Path</th>\n",
       "      <th>Seizure Type</th>\n",
       "      <th>Num Tiles</th>\n",
       "      <th>Class</th>\n",
       "    </tr>\n",
       "  </thead>\n",
       "  <tbody>\n",
       "    <tr>\n",
       "      <th>133786</th>\n",
       "      <td>1982</td>\n",
       "      <td>/Volumes/Storage/TUH_EEG/train_spectrogram/03_...</td>\n",
       "      <td>non-seizure</td>\n",
       "      <td>38.0</td>\n",
       "      <td>0</td>\n",
       "    </tr>\n",
       "    <tr>\n",
       "      <th>133787</th>\n",
       "      <td>1982</td>\n",
       "      <td>/Volumes/Storage/TUH_EEG/train_spectrogram/03_...</td>\n",
       "      <td>non-seizure</td>\n",
       "      <td>38.0</td>\n",
       "      <td>0</td>\n",
       "    </tr>\n",
       "    <tr>\n",
       "      <th>133788</th>\n",
       "      <td>1982</td>\n",
       "      <td>/Volumes/Storage/TUH_EEG/train_spectrogram/03_...</td>\n",
       "      <td>non-seizure</td>\n",
       "      <td>38.0</td>\n",
       "      <td>0</td>\n",
       "    </tr>\n",
       "    <tr>\n",
       "      <th>133789</th>\n",
       "      <td>1982</td>\n",
       "      <td>/Volumes/Storage/TUH_EEG/train_spectrogram/03_...</td>\n",
       "      <td>non-seizure</td>\n",
       "      <td>38.0</td>\n",
       "      <td>0</td>\n",
       "    </tr>\n",
       "    <tr>\n",
       "      <th>133790</th>\n",
       "      <td>1982</td>\n",
       "      <td>/Volumes/Storage/TUH_EEG/train_spectrogram/03_...</td>\n",
       "      <td>non-seizure</td>\n",
       "      <td>38.0</td>\n",
       "      <td>0</td>\n",
       "    </tr>\n",
       "  </tbody>\n",
       "</table>\n",
       "</div>"
      ],
      "text/plain": [
       "         Num                                               Path Seizure Type  \\\n",
       "133786  1982  /Volumes/Storage/TUH_EEG/train_spectrogram/03_...  non-seizure   \n",
       "133787  1982  /Volumes/Storage/TUH_EEG/train_spectrogram/03_...  non-seizure   \n",
       "133788  1982  /Volumes/Storage/TUH_EEG/train_spectrogram/03_...  non-seizure   \n",
       "133789  1982  /Volumes/Storage/TUH_EEG/train_spectrogram/03_...  non-seizure   \n",
       "133790  1982  /Volumes/Storage/TUH_EEG/train_spectrogram/03_...  non-seizure   \n",
       "\n",
       "        Num Tiles  Class  \n",
       "133786       38.0      0  \n",
       "133787       38.0      0  \n",
       "133788       38.0      0  \n",
       "133789       38.0      0  \n",
       "133790       38.0      0  "
      ]
     },
     "execution_count": 17,
     "metadata": {},
     "output_type": "execute_result"
    }
   ],
   "source": [
    "df_final = df_non_seizure.append(df_background).append(df_seizure)\n",
    "df_final = df_final.sort_values(by='Path')\n",
    "df_final['Class'] = 0\n",
    "df_final.loc[df_final['Seizure Type']=='non-seizure', 'Class'] = 0\n",
    "df_final.loc[df_final['Seizure Type']=='background', 'Class'] = 1\n",
    "df_final.loc[np.logical_and(df_final['Seizure Type']!='non-seizure', \n",
    "                        df_final['Seizure Type']!='background'), 'Class'] = 2\n",
    "#df_final.to_csv(os.path.join(basedir, '_DOCS', 'train_spectrogram_balanced.csv'), index=False)\n",
    "df_final.tail()"
   ]
  },
  {
   "cell_type": "markdown",
   "metadata": {},
   "source": [
    "### Make the balanced subset of test data"
   ]
  },
  {
   "cell_type": "code",
   "execution_count": 9,
   "metadata": {
    "deletable": false,
    "editable": false,
    "run_control": {
     "frozen": true
    }
   },
   "outputs": [
    {
     "data": {
      "text/plain": [
       "(8586, 4)"
      ]
     },
     "execution_count": 9,
     "metadata": {},
     "output_type": "execute_result"
    }
   ],
   "source": [
    "basedir = '/Volumes/Storage/TUH_EEG/'\n",
    "df_spec_test = pd.read_csv(os.path.join(basedir, '_DOCS', 'dev_test_spectrogram_labels.csv'))\n",
    "gp = df_spec_test.groupby(by=['Num', 'Seizure Type'], as_index=False, sort=False)\n",
    "Summary_non_seizure = gp.mean()\n",
    "Summary_non_seizure = Summary_non_seizure.loc[np.logical_and.reduce([\n",
    "    Summary_non_seizure['Seizure Type']=='non-seizure', \n",
    "    Summary_non_seizure['Num Tiles'] > 25, \n",
    "    Summary_non_seizure['Num Tiles'] < 40],\n",
    "), :]\n",
    "\n",
    "df_non_seizure = df_spec_test.loc[np.logical_and(df_spec_test['Seizure Type']=='non-seizure',\n",
    "                                    [df_spec_test.loc[i, 'Num'] in Summary_non_seizure['Num'].values \\\n",
    "                                     for i in df_spec_test.index]), :]\n",
    "# Randomly take a subset of samples from the number filtered data\n",
    "num_rows = df_non_seizure.shape[0]\n",
    "np.random.seed(42)\n",
    "for n in df_non_seizure['Num'].unique():\n",
    "    indices = df_non_seizure.loc[df_non_seizure['Num']==n, :].index\n",
    "    if len(indices) < 2:\n",
    "        continue # keep evreything\n",
    "    selected_indices = np.random.choice(indices, size=(round(len(indices)*(1-8574/num_rows))), replace=False)\n",
    "    df_non_seizure = df_non_seizure.drop(index=selected_indices)\n",
    "\n",
    "df_non_seizure.shape"
   ]
  },
  {
   "cell_type": "code",
   "execution_count": 10,
   "metadata": {
    "deletable": false,
    "editable": false,
    "run_control": {
     "frozen": true
    }
   },
   "outputs": [
    {
     "data": {
      "text/plain": [
       "(8577, 4)"
      ]
     },
     "execution_count": 10,
     "metadata": {},
     "output_type": "execute_result"
    }
   ],
   "source": [
    "df_background = df_spec_test.loc[df_spec_test['Seizure Type']=='background', :]\n",
    "np.random.seed(42)\n",
    "for n in df_background['Num'].unique():\n",
    "    indices = df_background.loc[df_background['Num']==n, :].index\n",
    "    if len(indices) < 2:\n",
    "        continue # keep evreything\n",
    "    selected_indices = np.random.choice(indices, size=(round(len(indices)*(1-8574/21045))), replace=False)\n",
    "    df_background = df_background.drop(index=selected_indices)\n",
    "\n",
    "df_background.shape\n"
   ]
  },
  {
   "cell_type": "code",
   "execution_count": 11,
   "metadata": {
    "deletable": false,
    "editable": false,
    "run_control": {
     "frozen": true
    }
   },
   "outputs": [
    {
     "data": {
      "text/plain": [
       "(8408, 4)"
      ]
     },
     "execution_count": 11,
     "metadata": {},
     "output_type": "execute_result"
    }
   ],
   "source": [
    "df_seizure = df_spec_test.loc[np.logical_and.reduce([df_spec_test['Seizure Type']!='background',\n",
    "                                                    df_spec_test['Seizure Type']!='non-seizure',\n",
    "                                                    df_spec_test['Seizure Type']!='no label']), :]\n",
    "df_seizure.shape"
   ]
  },
  {
   "cell_type": "code",
   "execution_count": 12,
   "metadata": {
    "deletable": false,
    "editable": false,
    "run_control": {
     "frozen": true
    }
   },
   "outputs": [
    {
     "data": {
      "text/html": [
       "<div>\n",
       "<style scoped>\n",
       "    .dataframe tbody tr th:only-of-type {\n",
       "        vertical-align: middle;\n",
       "    }\n",
       "\n",
       "    .dataframe tbody tr th {\n",
       "        vertical-align: top;\n",
       "    }\n",
       "\n",
       "    .dataframe thead th {\n",
       "        text-align: right;\n",
       "    }\n",
       "</style>\n",
       "<table border=\"1\" class=\"dataframe\">\n",
       "  <thead>\n",
       "    <tr style=\"text-align: right;\">\n",
       "      <th></th>\n",
       "      <th>Num</th>\n",
       "      <th>Path</th>\n",
       "      <th>Seizure Type</th>\n",
       "      <th>Num Tiles</th>\n",
       "      <th>Class</th>\n",
       "    </tr>\n",
       "  </thead>\n",
       "  <tbody>\n",
       "    <tr>\n",
       "      <th>74778</th>\n",
       "      <td>1009</td>\n",
       "      <td>/Volumes/Storage/TUH_EEG/dev_test_spectrogram/...</td>\n",
       "      <td>non-seizure</td>\n",
       "      <td>35.0</td>\n",
       "      <td>0</td>\n",
       "    </tr>\n",
       "    <tr>\n",
       "      <th>74779</th>\n",
       "      <td>1009</td>\n",
       "      <td>/Volumes/Storage/TUH_EEG/dev_test_spectrogram/...</td>\n",
       "      <td>non-seizure</td>\n",
       "      <td>35.0</td>\n",
       "      <td>0</td>\n",
       "    </tr>\n",
       "    <tr>\n",
       "      <th>74781</th>\n",
       "      <td>1009</td>\n",
       "      <td>/Volumes/Storage/TUH_EEG/dev_test_spectrogram/...</td>\n",
       "      <td>non-seizure</td>\n",
       "      <td>35.0</td>\n",
       "      <td>0</td>\n",
       "    </tr>\n",
       "    <tr>\n",
       "      <th>74782</th>\n",
       "      <td>1009</td>\n",
       "      <td>/Volumes/Storage/TUH_EEG/dev_test_spectrogram/...</td>\n",
       "      <td>non-seizure</td>\n",
       "      <td>35.0</td>\n",
       "      <td>0</td>\n",
       "    </tr>\n",
       "    <tr>\n",
       "      <th>74783</th>\n",
       "      <td>1009</td>\n",
       "      <td>/Volumes/Storage/TUH_EEG/dev_test_spectrogram/...</td>\n",
       "      <td>non-seizure</td>\n",
       "      <td>35.0</td>\n",
       "      <td>0</td>\n",
       "    </tr>\n",
       "  </tbody>\n",
       "</table>\n",
       "</div>"
      ],
      "text/plain": [
       "        Num                                               Path Seizure Type  \\\n",
       "74778  1009  /Volumes/Storage/TUH_EEG/dev_test_spectrogram/...  non-seizure   \n",
       "74779  1009  /Volumes/Storage/TUH_EEG/dev_test_spectrogram/...  non-seizure   \n",
       "74781  1009  /Volumes/Storage/TUH_EEG/dev_test_spectrogram/...  non-seizure   \n",
       "74782  1009  /Volumes/Storage/TUH_EEG/dev_test_spectrogram/...  non-seizure   \n",
       "74783  1009  /Volumes/Storage/TUH_EEG/dev_test_spectrogram/...  non-seizure   \n",
       "\n",
       "       Num Tiles  Class  \n",
       "74778       35.0      0  \n",
       "74779       35.0      0  \n",
       "74781       35.0      0  \n",
       "74782       35.0      0  \n",
       "74783       35.0      0  "
      ]
     },
     "execution_count": 12,
     "metadata": {},
     "output_type": "execute_result"
    }
   ],
   "source": [
    "df_final = df_non_seizure.append(df_background).append(df_seizure)\n",
    "df_final = df_final.sort_values(by='Path')\n",
    "df_final['Class'] = 0\n",
    "df_final.loc[df_final['Seizure Type']=='non-seizure', 'Class'] = 0\n",
    "df_final.loc[df_final['Seizure Type']=='background', 'Class'] = 1\n",
    "df_final.loc[np.logical_and(df_final['Seizure Type']!='non-seizure', \n",
    "                        df_final['Seizure Type']!='background'), 'Class'] = 2\n",
    "df_final.to_csv(os.path.join(basedir, '_DOCS', 'dev_test_spectrogram_balanced.csv'), index=False)\n",
    "df_final.tail()"
   ]
  },
  {
   "cell_type": "markdown",
   "metadata": {},
   "source": [
    "## 2D Convolutional Neural Network with Keras\n",
    "\n",
    "Recall the data is a channel x freqs x times (19 x 81 x 20) matrix. "
   ]
  },
  {
   "cell_type": "code",
   "execution_count": 4,
   "metadata": {},
   "outputs": [
    {
     "name": "stderr",
     "output_type": "stream",
     "text": [
      "/Users/edward/anaconda3/lib/python3.6/site-packages/h5py/__init__.py:36: FutureWarning: Conversion of the second argument of issubdtype from `float` to `np.floating` is deprecated. In future, it will be treated as `np.float64 == np.dtype(float).type`.\n",
      "  from ._conv import register_converters as _register_converters\n",
      "Using TensorFlow backend.\n"
     ]
    }
   ],
   "source": [
    "import keras\n",
    "import tensorflow as tf\n",
    "from keras.models import Sequential\n",
    "from keras.layers import Conv2D, MaxPooling2D, AveragePooling2D\n",
    "from keras.layers import Dense, Activation, Dropout, Flatten, BatchNormalization\n",
    "from keras.regularizers import l1, l2, l1_l2\n",
    "from sklearn.model_selection import train_test_split\n",
    "from sklearn.metrics import confusion_matrix, accuracy_score"
   ]
  },
  {
   "cell_type": "code",
   "execution_count": 5,
   "metadata": {
    "deletable": false,
    "editable": false
   },
   "outputs": [],
   "source": [
    "basedir = '/Volumes/Storage/TUH_EEG/'\n",
    "df_train = pd.read_csv(os.path.join(basedir, '_DOCS', 'train_spectrogram_balanced.csv'))\n",
    "df_test = pd.read_csv(os.path.join(basedir, '_DOCS', 'dev_test_spectrogram_balanced.csv'))\n",
    "df = df_train.append(df_test).reset_index(drop=True)\n",
    "df = df.sample(frac=1, random_state=1) # shuffle\n",
    "\n",
    "# Split df_test further into df_test and df_val\n",
    "df_train, df_test = train_test_split(df, test_size=0.3, random_state=42, stratify=df['Class'])\n",
    "df_test, df_val   = train_test_split(df_test, test_size=0.5, random_state=43, stratify=df_test['Class'])"
   ]
  },
  {
   "cell_type": "code",
   "execution_count": 6,
   "metadata": {
    "deletable": false,
    "editable": false
   },
   "outputs": [
    {
     "data": {
      "text/html": [
       "<div>\n",
       "<style scoped>\n",
       "    .dataframe tbody tr th:only-of-type {\n",
       "        vertical-align: middle;\n",
       "    }\n",
       "\n",
       "    .dataframe tbody tr th {\n",
       "        vertical-align: top;\n",
       "    }\n",
       "\n",
       "    .dataframe thead th {\n",
       "        text-align: right;\n",
       "    }\n",
       "</style>\n",
       "<table border=\"1\" class=\"dataframe\">\n",
       "  <thead>\n",
       "    <tr style=\"text-align: right;\">\n",
       "      <th></th>\n",
       "      <th>All</th>\n",
       "      <th>Train</th>\n",
       "      <th>Test</th>\n",
       "      <th>Val</th>\n",
       "    </tr>\n",
       "  </thead>\n",
       "  <tbody>\n",
       "    <tr>\n",
       "      <th>0</th>\n",
       "      <td>22023</td>\n",
       "      <td>15416</td>\n",
       "      <td>3303</td>\n",
       "      <td>3304</td>\n",
       "    </tr>\n",
       "    <tr>\n",
       "      <th>1</th>\n",
       "      <td>21124</td>\n",
       "      <td>14787</td>\n",
       "      <td>3503</td>\n",
       "      <td>3504</td>\n",
       "    </tr>\n",
       "    <tr>\n",
       "      <th>2</th>\n",
       "      <td>23355</td>\n",
       "      <td>16348</td>\n",
       "      <td>3169</td>\n",
       "      <td>3168</td>\n",
       "    </tr>\n",
       "  </tbody>\n",
       "</table>\n",
       "</div>"
      ],
      "text/plain": [
       "     All  Train  Test   Val\n",
       "0  22023  15416  3303  3304\n",
       "1  21124  14787  3503  3504\n",
       "2  23355  16348  3169  3168"
      ]
     },
     "execution_count": 6,
     "metadata": {},
     "output_type": "execute_result"
    }
   ],
   "source": [
    "def print_split(df, df_train, df_test, df_val):\n",
    "    gp = df.groupby(by=['Class'], sort=False, as_index=False)\n",
    "    Summary_df = gp.count()['Path']\n",
    "    gp = df_train.groupby(by=['Class'], sort=False, as_index=False)\n",
    "    Summary_df_train = gp.count()['Path']\n",
    "    gp = df_test.groupby(by=['Class'], sort=False, as_index=False)\n",
    "    Summary_df_test = gp.count()['Path']\n",
    "    gp = df_val.groupby(by=['Class'], sort=False, as_index=False)\n",
    "    Summary_df_val = gp.count()['Path']\n",
    "    Summary = pd.DataFrame({'All': Summary_df, 'Train': Summary_df_train,\n",
    "                           'Test': Summary_df_test, 'Val': Summary_df_val})\n",
    "    \n",
    "    return Summary\n",
    "print_split(df, df_train, df_test, df_val)"
   ]
  },
  {
   "cell_type": "code",
   "execution_count": 44,
   "metadata": {
    "code_folding": [],
    "deletable": false,
    "editable": false,
    "run_control": {
     "frozen": true
    }
   },
   "outputs": [
    {
     "name": "stdout",
     "output_type": "stream",
     "text": [
      "\n",
      "Is shuffled\n",
      "\n",
      "\n",
      "call on_epoch_end:  0.016196999999976924 from  train \n",
      "\n",
      "\n",
      "call on_epoch_end:  4.9999999873762135e-06 from  test \n",
      "\n",
      "\n",
      "call on_epoch_end:  4.9999999873762135e-06 from  val \n",
      "\n"
     ]
    }
   ],
   "source": [
    "# Generating data\n",
    "batch_size = 50\n",
    "num_classes = 3\n",
    "epochs = 100\n",
    "\n",
    "class DataGenerator(keras.utils.Sequence):\n",
    "    \"\"\"Generate data for Keras\"\"\"\n",
    "    def __init__(self, df, batch_size=50, num_classes=3, shuffle=False, dataset=None):\n",
    "        self.batch_size = batch_size\n",
    "        self.num_classes = num_classes\n",
    "        self.shuffle = shuffle\n",
    "        self.df = df\n",
    "        self.dataset = dataset\n",
    "        self.on_epoch_end()\n",
    "    \n",
    "    def __len__(self):\n",
    "        \"\"\"Denotes the number of batches per epoch\"\"\"\n",
    "        num_batches = self.df.shape[0] // self.batch_size + (self.df.shape[0] % self.batch_size > 0)\n",
    "        return num_batches\n",
    "    \n",
    "    def __getitem__(self, index):\n",
    "        \"\"\"Generate one batch of data\"\"\"\n",
    "        start_index = index * self.batch_size\n",
    "        end_index = (index+1) * self.batch_size\n",
    "        if end_index > self.df.shape[0]:\n",
    "            end_index = None\n",
    "        rows = self.df.index[start_index:end_index]\n",
    "        \n",
    "        X, y = self.__data_generation(rows)\n",
    "\n",
    "        return X, y\n",
    "    \n",
    "    def on_epoch_end(self):\n",
    "        \"\"\"Update indexes after each epoch\"\"\"\n",
    "        start_time = time.clock()\n",
    "        if self.shuffle:\n",
    "            self.df = self.df.sample(frac=1, replace=False).reset_index(drop=True)\n",
    "            print('\\nIs shuffled\\n')\n",
    "        print('\\ncall on_epoch_end: ', time.clock()-start_time, \"from \", self.dataset, \"\\n\")\n",
    "\n",
    "            \n",
    "    def __data_generation(self, rows):\n",
    "        nrows = len(rows)\n",
    "        # Initialize\n",
    "        X = [[]] * nrows\n",
    "        y = [[]] * nrows\n",
    "        #start_time = time.clock()\n",
    "        for n, r in enumerate(rows):\n",
    "            #print(self.df.loc[r, 'Num'])\n",
    "            X[n] = np.load(os.path.join(self.df.loc[r, 'Path']))['spectrogram']\n",
    "            y[n] = int(self.df.loc[r, 'Class'])\n",
    "        X = np.array(X)\n",
    "        y = keras.utils.to_categorical(y, self.num_classes)\n",
    "        #print('\\ndata loading time: ', time.clock()-start_time, \"from \", self.dataset, \"\\n\")\n",
    "        return X, y\n",
    "        \n",
    "            \n",
    "train_generator = DataGenerator(df_train.reset_index(drop=True), batch_size=50, num_classes=3, shuffle=True, dataset='train')\n",
    "test_generator = DataGenerator(df_test.reset_index(drop=True), batch_size=50, num_classes=3, dataset='test')\n",
    "val_generator = DataGenerator(df_val.reset_index(drop=True), batch_size=50, num_classes=3, dataset='val')"
   ]
  },
  {
   "cell_type": "code",
   "execution_count": 48,
   "metadata": {},
   "outputs": [],
   "source": [
    "def data_generator(df, batch_size=50, num_classes=3, shuffle=True, dataset=None):\n",
    "    while True:\n",
    "        if shuffle:\n",
    "            df = df.sample(frac=1)\n",
    "        df = df.reset_index(drop=True)\n",
    "        num_batches = df.shape[0] // batch_size + (df.shape[0] % batch_size > 0)\n",
    "        for index in range(num_batches):\n",
    "            start_index = index * batch_size\n",
    "            end_index = (index+1) * batch_size\n",
    "            if end_index > df.shape[0]:\n",
    "                end_index = None\n",
    "            rows = df.index[start_index:end_index]\n",
    "            nrows = len(rows)\n",
    "            # Initialize\n",
    "            X = [[]] * nrows\n",
    "            y = [[]] * nrows\n",
    "\n",
    "            for n, r in enumerate(rows):\n",
    "                X[n] = np.load(os.path.join(df.loc[r, 'Path']))['spectrogram']\n",
    "                y[n] = int(df.loc[r, 'Class'])\n",
    "            X = np.array(X)\n",
    "            y = keras.utils.to_categorical(y, num_classes)\n",
    "            yield X, y\n",
    "            \n",
    "            "
   ]
  },
  {
   "cell_type": "code",
   "execution_count": 49,
   "metadata": {},
   "outputs": [
    {
     "ename": "ValueError",
     "evalue": "`steps_per_epoch=None` is only valid for a generator based on the `keras.utils.Sequence` class. Please specify `steps_per_epoch` or use the `keras.utils.Sequence` class.",
     "output_type": "error",
     "traceback": [
      "\u001b[0;31m---------------------------------------------------------------------------\u001b[0m",
      "\u001b[0;31mValueError\u001b[0m                                Traceback (most recent call last)",
      "\u001b[0;32m<ipython-input-49-68c6c4efec98>\u001b[0m in \u001b[0;36m<module>\u001b[0;34m()\u001b[0m\n\u001b[1;32m      6\u001b[0m                               \u001b[0mvalidation_data\u001b[0m\u001b[0;34m=\u001b[0m\u001b[0mval_generator\u001b[0m\u001b[0;34m,\u001b[0m\u001b[0;34m\u001b[0m\u001b[0m\n\u001b[1;32m      7\u001b[0m                               \u001b[0mepochs\u001b[0m\u001b[0;34m=\u001b[0m\u001b[0;36m3\u001b[0m\u001b[0;34m,\u001b[0m\u001b[0;34m\u001b[0m\u001b[0m\n\u001b[0;32m----> 8\u001b[0;31m                               verbose=1)\n\u001b[0m",
      "\u001b[0;32m~/anaconda3/lib/python3.6/site-packages/keras/legacy/interfaces.py\u001b[0m in \u001b[0;36mwrapper\u001b[0;34m(*args, **kwargs)\u001b[0m\n\u001b[1;32m     89\u001b[0m                 warnings.warn('Update your `' + object_name + '` call to the ' +\n\u001b[1;32m     90\u001b[0m                               'Keras 2 API: ' + signature, stacklevel=2)\n\u001b[0;32m---> 91\u001b[0;31m             \u001b[0;32mreturn\u001b[0m \u001b[0mfunc\u001b[0m\u001b[0;34m(\u001b[0m\u001b[0;34m*\u001b[0m\u001b[0margs\u001b[0m\u001b[0;34m,\u001b[0m \u001b[0;34m**\u001b[0m\u001b[0mkwargs\u001b[0m\u001b[0;34m)\u001b[0m\u001b[0;34m\u001b[0m\u001b[0m\n\u001b[0m\u001b[1;32m     92\u001b[0m         \u001b[0mwrapper\u001b[0m\u001b[0;34m.\u001b[0m\u001b[0m_original_function\u001b[0m \u001b[0;34m=\u001b[0m \u001b[0mfunc\u001b[0m\u001b[0;34m\u001b[0m\u001b[0m\n\u001b[1;32m     93\u001b[0m         \u001b[0;32mreturn\u001b[0m \u001b[0mwrapper\u001b[0m\u001b[0;34m\u001b[0m\u001b[0m\n",
      "\u001b[0;32m~/anaconda3/lib/python3.6/site-packages/keras/engine/training.py\u001b[0m in \u001b[0;36mfit_generator\u001b[0;34m(self, generator, steps_per_epoch, epochs, verbose, callbacks, validation_data, validation_steps, class_weight, max_queue_size, workers, use_multiprocessing, shuffle, initial_epoch)\u001b[0m\n\u001b[1;32m   1416\u001b[0m             \u001b[0muse_multiprocessing\u001b[0m\u001b[0;34m=\u001b[0m\u001b[0muse_multiprocessing\u001b[0m\u001b[0;34m,\u001b[0m\u001b[0;34m\u001b[0m\u001b[0m\n\u001b[1;32m   1417\u001b[0m             \u001b[0mshuffle\u001b[0m\u001b[0;34m=\u001b[0m\u001b[0mshuffle\u001b[0m\u001b[0;34m,\u001b[0m\u001b[0;34m\u001b[0m\u001b[0m\n\u001b[0;32m-> 1418\u001b[0;31m             initial_epoch=initial_epoch)\n\u001b[0m\u001b[1;32m   1419\u001b[0m \u001b[0;34m\u001b[0m\u001b[0m\n\u001b[1;32m   1420\u001b[0m     \u001b[0;34m@\u001b[0m\u001b[0minterfaces\u001b[0m\u001b[0;34m.\u001b[0m\u001b[0mlegacy_generator_methods_support\u001b[0m\u001b[0;34m\u001b[0m\u001b[0m\n",
      "\u001b[0;32m~/anaconda3/lib/python3.6/site-packages/keras/engine/training_generator.py\u001b[0m in \u001b[0;36mfit_generator\u001b[0;34m(model, generator, steps_per_epoch, epochs, verbose, callbacks, validation_data, validation_steps, class_weight, max_queue_size, workers, use_multiprocessing, shuffle, initial_epoch)\u001b[0m\n\u001b[1;32m     53\u001b[0m             \u001b[0msteps_per_epoch\u001b[0m \u001b[0;34m=\u001b[0m \u001b[0mlen\u001b[0m\u001b[0;34m(\u001b[0m\u001b[0mgenerator\u001b[0m\u001b[0;34m)\u001b[0m\u001b[0;34m\u001b[0m\u001b[0m\n\u001b[1;32m     54\u001b[0m         \u001b[0;32melse\u001b[0m\u001b[0;34m:\u001b[0m\u001b[0;34m\u001b[0m\u001b[0m\n\u001b[0;32m---> 55\u001b[0;31m             raise ValueError('`steps_per_epoch=None` is only valid for a'\n\u001b[0m\u001b[1;32m     56\u001b[0m                              \u001b[0;34m' generator based on the '\u001b[0m\u001b[0;34m\u001b[0m\u001b[0m\n\u001b[1;32m     57\u001b[0m                              \u001b[0;34m'`keras.utils.Sequence`'\u001b[0m\u001b[0;34m\u001b[0m\u001b[0m\n",
      "\u001b[0;31mValueError\u001b[0m: `steps_per_epoch=None` is only valid for a generator based on the `keras.utils.Sequence` class. Please specify `steps_per_epoch` or use the `keras.utils.Sequence` class."
     ]
    }
   ],
   "source": [
    "import time\n",
    "_df = df_train.reset_index(drop=True).loc[1:200, :]\n",
    "train_generator = data_generator(_df, batch_size=50, num_classes=3, shuffle=True, dataset='train')\n",
    "train_steps = _df.shape[0] // 50 + (_df.shape[0] % 50 > 0)\n",
    "val_generator = data_generator(_df.loc[1:50, :], batch_size=50, num_classes=3, dataset='val')\n",
    "val_steps = _df.loc[1:50].shape[0]//50 + (_df.loc[1:50].shape[0] % 50 >0)\n",
    "history = model.fit_generator(train_generator, steps_per_epoch=train_steps\n",
    "                              validation_data=val_generator,\n",
    "                              val_steps = val_steps,\n",
    "                              epochs=3,\n",
    "                              verbose=1)"
   ]
  },
  {
   "cell_type": "code",
   "execution_count": 8,
   "metadata": {
    "hide_input": false
   },
   "outputs": [
    {
     "name": "stdout",
     "output_type": "stream",
     "text": [
      "_________________________________________________________________\n",
      "Layer (type)                 Output Shape              Param #   \n",
      "=================================================================\n",
      "conv2d_1 (Conv2D)            (None, 16, 81, 20)        2752      \n",
      "_________________________________________________________________\n",
      "conv2d_2 (Conv2D)            (None, 16, 81, 32)        5792      \n",
      "_________________________________________________________________\n",
      "average_pooling2d_1 (Average (None, 8, 40, 32)         0         \n",
      "_________________________________________________________________\n",
      "dropout_1 (Dropout)          (None, 8, 40, 32)         0         \n",
      "_________________________________________________________________\n",
      "conv2d_3 (Conv2D)            (None, 8, 40, 64)         18496     \n",
      "_________________________________________________________________\n",
      "conv2d_4 (Conv2D)            (None, 8, 40, 64)         36928     \n",
      "_________________________________________________________________\n",
      "average_pooling2d_2 (Average (None, 4, 20, 64)         0         \n",
      "_________________________________________________________________\n",
      "dropout_2 (Dropout)          (None, 4, 20, 64)         0         \n",
      "_________________________________________________________________\n",
      "flatten_1 (Flatten)          (None, 5120)              0         \n",
      "_________________________________________________________________\n",
      "dense_1 (Dense)              (None, 512)               2621952   \n",
      "_________________________________________________________________\n",
      "batch_normalization_1 (Batch (None, 512)               2048      \n",
      "_________________________________________________________________\n",
      "activation_1 (Activation)    (None, 512)               0         \n",
      "_________________________________________________________________\n",
      "dense_2 (Dense)              (None, 64)                32832     \n",
      "_________________________________________________________________\n",
      "batch_normalization_2 (Batch (None, 64)                256       \n",
      "_________________________________________________________________\n",
      "activation_2 (Activation)    (None, 64)                0         \n",
      "_________________________________________________________________\n",
      "dropout_3 (Dropout)          (None, 64)                0         \n",
      "_________________________________________________________________\n",
      "dense_3 (Dense)              (None, 3)                 195       \n",
      "_________________________________________________________________\n",
      "activation_3 (Activation)    (None, 3)                 0         \n",
      "=================================================================\n",
      "Total params: 2,721,251\n",
      "Trainable params: 2,720,099\n",
      "Non-trainable params: 1,152\n",
      "_________________________________________________________________\n",
      "None\n"
     ]
    }
   ],
   "source": [
    "tf.reset_default_graph()\n",
    "model = Sequential()\n",
    "model.add(Conv2D(16, (3, 3), padding='same', input_shape=[19, 81, 20],\n",
    "          data_format=\"channels_first\", activation='relu'))\n",
    "model.add(Conv2D(32, (3, 3), padding='same', activation='relu', kernel_regularizer=l1_l2(0.001, 0.01)))\n",
    "model.add(AveragePooling2D(pool_size=(2, 2)))\n",
    "model.add(Dropout(0.25))\n",
    "\n",
    "model.add(Conv2D(64, (3, 3), padding='same', activation='relu'))\n",
    "model.add(Conv2D(64, (3, 3), padding='same', activation='relu', kernel_regularizer=l1_l2(0.001, 0.01)))\n",
    "model.add(AveragePooling2D(pool_size=(2, 2)))\n",
    "model.add(Dropout(0.25))\n",
    "\n",
    "model.add(Flatten())\n",
    "model.add(Dense(512))\n",
    "model.add(BatchNormalization())\n",
    "model.add(Activation('relu'))\n",
    "model.add(Dense(64))\n",
    "model.add(BatchNormalization())\n",
    "model.add(Activation('relu'))\n",
    "model.add(Dropout(0.25))\n",
    "model.add(Dense(num_classes))\n",
    "model.add(Activation('softmax'))\n",
    "\n",
    "# initiate optimizer\n",
    "opt = keras.optimizers.Adam(lr=0.0001, decay=1e-6)\n",
    "\n",
    "# Let's train the model\n",
    "model.compile(loss='categorical_crossentropy',\n",
    "              optimizer=opt,\n",
    "              metrics=['accuracy'])\n",
    "\n",
    "print(model.summary())"
   ]
  },
  {
   "cell_type": "markdown",
   "metadata": {},
   "source": [
    "### Train"
   ]
  },
  {
   "cell_type": "code",
   "execution_count": 23,
   "metadata": {
    "hide_input": false
   },
   "outputs": [
    {
     "name": "stdout",
     "output_type": "stream",
     "text": [
      "Epoch 1/100\n",
      "\n",
      "data loading time:  0.1800969999999964 \n",
      "\n",
      "\n",
      "data loading time:  0.18613599999999764 \n",
      "\n",
      "\n",
      "data loading time:  0.18253999999999593 \n",
      "\n",
      "\n",
      "data loading time:  1.221063000000001 \n",
      "\n",
      "  1/932 [..............................] - ETA: 11:46:42 - loss: 3.9253 - acc: 0.3800\n",
      "data loading time:  2.4558139999999966 \n",
      "\n",
      "\n",
      "data loading time:  2.494997000000005 \n",
      "\n",
      "  2/932 [..............................] - ETA: 8:47:58 - loss: 3.9070 - acc: 0.3200 \n",
      "data loading time:  2.5261270000000025 \n",
      "\n",
      "\n",
      "data loading time:  2.510569000000004 \n",
      "\n",
      "  3/932 [..............................] - ETA: 7:51:59 - loss: 3.8321 - acc: 0.3267\n",
      "data loading time:  2.4734400000000036 \n",
      "\n",
      "\n",
      "data loading time:  2.406404000000002 \n",
      "\n",
      "  4/932 [..............................] - ETA: 7:20:08 - loss: 3.8415 - acc: 0.3150\n",
      "data loading time:  2.4163840000000008 \n",
      "\n",
      "\n",
      "data loading time:  2.3177030000000087 \n",
      "\n",
      "  5/932 [..............................] - ETA: 7:11:23 - loss: 3.8701 - acc: 0.3400\n",
      "data loading time:  2.3461929999999995 \n",
      "\n",
      "\n",
      "data loading time:  2.450057000000001 \n",
      "\n",
      "  6/932 [..............................] - ETA: 7:03:55 - loss: 3.8369 - acc: 0.3567\n",
      "data loading time:  2.4611810000000105 \n",
      "\n",
      "\n",
      "data loading time:  2.451362000000003 \n",
      "\n",
      "  7/932 [..............................] - ETA: 7:07:08 - loss: 3.8353 - acc: 0.3571\n",
      "data loading time:  2.4514099999999956 \n",
      "\n",
      "\n",
      "data loading time:  2.4317100000000096 \n",
      "\n",
      "  8/932 [..............................] - ETA: 7:00:06 - loss: 3.8254 - acc: 0.3525\n",
      "data loading time:  2.4308459999999883 \n",
      "\n",
      "\n",
      "data loading time:  2.1317169999999948 \n",
      "\n",
      "  9/932 [..............................] - ETA: 6:40:35 - loss: 3.8054 - acc: 0.3489\n",
      "data loading time:  2.0518320000000045 \n",
      "\n",
      " 10/932 [..............................] - ETA: 6:20:49 - loss: 3.7968 - acc: 0.3540\n",
      "data loading time:  2.077405000000013 \n",
      "\n",
      " 11/932 [..............................] - ETA: 6:03:54 - loss: 3.8003 - acc: 0.3473\n",
      "data loading time:  2.1076160000000073 \n",
      "\n",
      " 12/932 [..............................] - ETA: 5:50:22 - loss: 3.8122 - acc: 0.3483\n",
      "data loading time:  2.1091559999999987 \n",
      "\n",
      " 13/932 [..............................] - ETA: 5:40:06 - loss: 3.7995 - acc: 0.3415\n",
      "data loading time:  2.113742000000002 \n",
      "\n",
      " 14/932 [..............................] - ETA: 5:30:13 - loss: 3.7893 - acc: 0.3486\n",
      "data loading time:  2.0080290000000076 \n",
      "\n",
      " 15/932 [..............................] - ETA: 5:22:12 - loss: 3.7801 - acc: 0.3493\n",
      "data loading time:  2.1045110000000022 \n",
      "\n",
      " 16/932 [..............................] - ETA: 5:15:36 - loss: 3.7809 - acc: 0.3475\n",
      "data loading time:  2.131484999999998 \n",
      "\n",
      " 17/932 [..............................] - ETA: 5:09:21 - loss: 3.7768 - acc: 0.3529\n",
      "data loading time:  2.0769759999999877 \n",
      "\n",
      " 18/932 [..............................] - ETA: 5:05:57 - loss: 3.7666 - acc: 0.3567\n",
      "data loading time:  2.103934999999993 \n",
      "\n",
      " 19/932 [..............................] - ETA: 5:00:14 - loss: 3.7594 - acc: 0.3600\n",
      "data loading time:  2.0909130000000005 \n",
      "\n",
      " 20/932 [..............................] - ETA: 4:55:48 - loss: 3.7527 - acc: 0.3580\n",
      "data loading time:  2.0879719999999935 \n",
      "\n",
      " 21/932 [..............................] - ETA: 4:51:47 - loss: 3.7589 - acc: 0.3610"
     ]
    },
    {
     "ename": "KeyboardInterrupt",
     "evalue": "",
     "output_type": "error",
     "traceback": [
      "\u001b[0;31m---------------------------------------------------------------------------\u001b[0m",
      "\u001b[0;31mKeyboardInterrupt\u001b[0m                         Traceback (most recent call last)",
      "\u001b[0;32m<ipython-input-23-87954810255e>\u001b[0m in \u001b[0;36m<module>\u001b[0;34m()\u001b[0m\n\u001b[1;32m      2\u001b[0m                               \u001b[0mepochs\u001b[0m\u001b[0;34m=\u001b[0m\u001b[0mepochs\u001b[0m\u001b[0;34m,\u001b[0m\u001b[0;34m\u001b[0m\u001b[0m\n\u001b[1;32m      3\u001b[0m                               \u001b[0mvalidation_data\u001b[0m\u001b[0;34m=\u001b[0m\u001b[0mval_generator\u001b[0m\u001b[0;34m,\u001b[0m\u001b[0;34m\u001b[0m\u001b[0m\n\u001b[0;32m----> 4\u001b[0;31m                               verbose=1)\n\u001b[0m",
      "\u001b[0;32m~/anaconda3/lib/python3.6/site-packages/keras/legacy/interfaces.py\u001b[0m in \u001b[0;36mwrapper\u001b[0;34m(*args, **kwargs)\u001b[0m\n\u001b[1;32m     89\u001b[0m                 warnings.warn('Update your `' + object_name + '` call to the ' +\n\u001b[1;32m     90\u001b[0m                               'Keras 2 API: ' + signature, stacklevel=2)\n\u001b[0;32m---> 91\u001b[0;31m             \u001b[0;32mreturn\u001b[0m \u001b[0mfunc\u001b[0m\u001b[0;34m(\u001b[0m\u001b[0;34m*\u001b[0m\u001b[0margs\u001b[0m\u001b[0;34m,\u001b[0m \u001b[0;34m**\u001b[0m\u001b[0mkwargs\u001b[0m\u001b[0;34m)\u001b[0m\u001b[0;34m\u001b[0m\u001b[0m\n\u001b[0m\u001b[1;32m     92\u001b[0m         \u001b[0mwrapper\u001b[0m\u001b[0;34m.\u001b[0m\u001b[0m_original_function\u001b[0m \u001b[0;34m=\u001b[0m \u001b[0mfunc\u001b[0m\u001b[0;34m\u001b[0m\u001b[0m\n\u001b[1;32m     93\u001b[0m         \u001b[0;32mreturn\u001b[0m \u001b[0mwrapper\u001b[0m\u001b[0;34m\u001b[0m\u001b[0m\n",
      "\u001b[0;32m~/anaconda3/lib/python3.6/site-packages/keras/engine/training.py\u001b[0m in \u001b[0;36mfit_generator\u001b[0;34m(self, generator, steps_per_epoch, epochs, verbose, callbacks, validation_data, validation_steps, class_weight, max_queue_size, workers, use_multiprocessing, shuffle, initial_epoch)\u001b[0m\n\u001b[1;32m   1416\u001b[0m             \u001b[0muse_multiprocessing\u001b[0m\u001b[0;34m=\u001b[0m\u001b[0muse_multiprocessing\u001b[0m\u001b[0;34m,\u001b[0m\u001b[0;34m\u001b[0m\u001b[0m\n\u001b[1;32m   1417\u001b[0m             \u001b[0mshuffle\u001b[0m\u001b[0;34m=\u001b[0m\u001b[0mshuffle\u001b[0m\u001b[0;34m,\u001b[0m\u001b[0;34m\u001b[0m\u001b[0m\n\u001b[0;32m-> 1418\u001b[0;31m             initial_epoch=initial_epoch)\n\u001b[0m\u001b[1;32m   1419\u001b[0m \u001b[0;34m\u001b[0m\u001b[0m\n\u001b[1;32m   1420\u001b[0m     \u001b[0;34m@\u001b[0m\u001b[0minterfaces\u001b[0m\u001b[0;34m.\u001b[0m\u001b[0mlegacy_generator_methods_support\u001b[0m\u001b[0;34m\u001b[0m\u001b[0m\n",
      "\u001b[0;32m~/anaconda3/lib/python3.6/site-packages/keras/engine/training_generator.py\u001b[0m in \u001b[0;36mfit_generator\u001b[0;34m(model, generator, steps_per_epoch, epochs, verbose, callbacks, validation_data, validation_steps, class_weight, max_queue_size, workers, use_multiprocessing, shuffle, initial_epoch)\u001b[0m\n\u001b[1;32m    179\u001b[0m             \u001b[0mbatch_index\u001b[0m \u001b[0;34m=\u001b[0m \u001b[0;36m0\u001b[0m\u001b[0;34m\u001b[0m\u001b[0m\n\u001b[1;32m    180\u001b[0m             \u001b[0;32mwhile\u001b[0m \u001b[0msteps_done\u001b[0m \u001b[0;34m<\u001b[0m \u001b[0msteps_per_epoch\u001b[0m\u001b[0;34m:\u001b[0m\u001b[0;34m\u001b[0m\u001b[0m\n\u001b[0;32m--> 181\u001b[0;31m                 \u001b[0mgenerator_output\u001b[0m \u001b[0;34m=\u001b[0m \u001b[0mnext\u001b[0m\u001b[0;34m(\u001b[0m\u001b[0moutput_generator\u001b[0m\u001b[0;34m)\u001b[0m\u001b[0;34m\u001b[0m\u001b[0m\n\u001b[0m\u001b[1;32m    182\u001b[0m \u001b[0;34m\u001b[0m\u001b[0m\n\u001b[1;32m    183\u001b[0m                 \u001b[0;32mif\u001b[0m \u001b[0;32mnot\u001b[0m \u001b[0mhasattr\u001b[0m\u001b[0;34m(\u001b[0m\u001b[0mgenerator_output\u001b[0m\u001b[0;34m,\u001b[0m \u001b[0;34m'__len__'\u001b[0m\u001b[0;34m)\u001b[0m\u001b[0;34m:\u001b[0m\u001b[0;34m\u001b[0m\u001b[0m\n",
      "\u001b[0;32m~/anaconda3/lib/python3.6/site-packages/keras/utils/data_utils.py\u001b[0m in \u001b[0;36mget\u001b[0;34m(self)\u001b[0m\n\u001b[1;32m    593\u001b[0m         \u001b[0;32mtry\u001b[0m\u001b[0;34m:\u001b[0m\u001b[0;34m\u001b[0m\u001b[0m\n\u001b[1;32m    594\u001b[0m             \u001b[0;32mwhile\u001b[0m \u001b[0mself\u001b[0m\u001b[0;34m.\u001b[0m\u001b[0mis_running\u001b[0m\u001b[0;34m(\u001b[0m\u001b[0;34m)\u001b[0m\u001b[0;34m:\u001b[0m\u001b[0;34m\u001b[0m\u001b[0m\n\u001b[0;32m--> 595\u001b[0;31m                 \u001b[0minputs\u001b[0m \u001b[0;34m=\u001b[0m \u001b[0mself\u001b[0m\u001b[0;34m.\u001b[0m\u001b[0mqueue\u001b[0m\u001b[0;34m.\u001b[0m\u001b[0mget\u001b[0m\u001b[0;34m(\u001b[0m\u001b[0mblock\u001b[0m\u001b[0;34m=\u001b[0m\u001b[0;32mTrue\u001b[0m\u001b[0;34m)\u001b[0m\u001b[0;34m.\u001b[0m\u001b[0mget\u001b[0m\u001b[0;34m(\u001b[0m\u001b[0;34m)\u001b[0m\u001b[0;34m\u001b[0m\u001b[0m\n\u001b[0m\u001b[1;32m    596\u001b[0m                 \u001b[0mself\u001b[0m\u001b[0;34m.\u001b[0m\u001b[0mqueue\u001b[0m\u001b[0;34m.\u001b[0m\u001b[0mtask_done\u001b[0m\u001b[0;34m(\u001b[0m\u001b[0;34m)\u001b[0m\u001b[0;34m\u001b[0m\u001b[0m\n\u001b[1;32m    597\u001b[0m                 \u001b[0;32mif\u001b[0m \u001b[0minputs\u001b[0m \u001b[0;32mis\u001b[0m \u001b[0;32mnot\u001b[0m \u001b[0;32mNone\u001b[0m\u001b[0;34m:\u001b[0m\u001b[0;34m\u001b[0m\u001b[0m\n",
      "\u001b[0;32m~/anaconda3/lib/python3.6/multiprocessing/pool.py\u001b[0m in \u001b[0;36mget\u001b[0;34m(self, timeout)\u001b[0m\n\u001b[1;32m    636\u001b[0m \u001b[0;34m\u001b[0m\u001b[0m\n\u001b[1;32m    637\u001b[0m     \u001b[0;32mdef\u001b[0m \u001b[0mget\u001b[0m\u001b[0;34m(\u001b[0m\u001b[0mself\u001b[0m\u001b[0;34m,\u001b[0m \u001b[0mtimeout\u001b[0m\u001b[0;34m=\u001b[0m\u001b[0;32mNone\u001b[0m\u001b[0;34m)\u001b[0m\u001b[0;34m:\u001b[0m\u001b[0;34m\u001b[0m\u001b[0m\n\u001b[0;32m--> 638\u001b[0;31m         \u001b[0mself\u001b[0m\u001b[0;34m.\u001b[0m\u001b[0mwait\u001b[0m\u001b[0;34m(\u001b[0m\u001b[0mtimeout\u001b[0m\u001b[0;34m)\u001b[0m\u001b[0;34m\u001b[0m\u001b[0m\n\u001b[0m\u001b[1;32m    639\u001b[0m         \u001b[0;32mif\u001b[0m \u001b[0;32mnot\u001b[0m \u001b[0mself\u001b[0m\u001b[0;34m.\u001b[0m\u001b[0mready\u001b[0m\u001b[0;34m(\u001b[0m\u001b[0;34m)\u001b[0m\u001b[0;34m:\u001b[0m\u001b[0;34m\u001b[0m\u001b[0m\n\u001b[1;32m    640\u001b[0m             \u001b[0;32mraise\u001b[0m \u001b[0mTimeoutError\u001b[0m\u001b[0;34m\u001b[0m\u001b[0m\n",
      "\u001b[0;32m~/anaconda3/lib/python3.6/multiprocessing/pool.py\u001b[0m in \u001b[0;36mwait\u001b[0;34m(self, timeout)\u001b[0m\n\u001b[1;32m    633\u001b[0m \u001b[0;34m\u001b[0m\u001b[0m\n\u001b[1;32m    634\u001b[0m     \u001b[0;32mdef\u001b[0m \u001b[0mwait\u001b[0m\u001b[0;34m(\u001b[0m\u001b[0mself\u001b[0m\u001b[0;34m,\u001b[0m \u001b[0mtimeout\u001b[0m\u001b[0;34m=\u001b[0m\u001b[0;32mNone\u001b[0m\u001b[0;34m)\u001b[0m\u001b[0;34m:\u001b[0m\u001b[0;34m\u001b[0m\u001b[0m\n\u001b[0;32m--> 635\u001b[0;31m         \u001b[0mself\u001b[0m\u001b[0;34m.\u001b[0m\u001b[0m_event\u001b[0m\u001b[0;34m.\u001b[0m\u001b[0mwait\u001b[0m\u001b[0;34m(\u001b[0m\u001b[0mtimeout\u001b[0m\u001b[0;34m)\u001b[0m\u001b[0;34m\u001b[0m\u001b[0m\n\u001b[0m\u001b[1;32m    636\u001b[0m \u001b[0;34m\u001b[0m\u001b[0m\n\u001b[1;32m    637\u001b[0m     \u001b[0;32mdef\u001b[0m \u001b[0mget\u001b[0m\u001b[0;34m(\u001b[0m\u001b[0mself\u001b[0m\u001b[0;34m,\u001b[0m \u001b[0mtimeout\u001b[0m\u001b[0;34m=\u001b[0m\u001b[0;32mNone\u001b[0m\u001b[0;34m)\u001b[0m\u001b[0;34m:\u001b[0m\u001b[0;34m\u001b[0m\u001b[0m\n",
      "\u001b[0;32m~/anaconda3/lib/python3.6/threading.py\u001b[0m in \u001b[0;36mwait\u001b[0;34m(self, timeout)\u001b[0m\n\u001b[1;32m    549\u001b[0m             \u001b[0msignaled\u001b[0m \u001b[0;34m=\u001b[0m \u001b[0mself\u001b[0m\u001b[0;34m.\u001b[0m\u001b[0m_flag\u001b[0m\u001b[0;34m\u001b[0m\u001b[0m\n\u001b[1;32m    550\u001b[0m             \u001b[0;32mif\u001b[0m \u001b[0;32mnot\u001b[0m \u001b[0msignaled\u001b[0m\u001b[0;34m:\u001b[0m\u001b[0;34m\u001b[0m\u001b[0m\n\u001b[0;32m--> 551\u001b[0;31m                 \u001b[0msignaled\u001b[0m \u001b[0;34m=\u001b[0m \u001b[0mself\u001b[0m\u001b[0;34m.\u001b[0m\u001b[0m_cond\u001b[0m\u001b[0;34m.\u001b[0m\u001b[0mwait\u001b[0m\u001b[0;34m(\u001b[0m\u001b[0mtimeout\u001b[0m\u001b[0;34m)\u001b[0m\u001b[0;34m\u001b[0m\u001b[0m\n\u001b[0m\u001b[1;32m    552\u001b[0m             \u001b[0;32mreturn\u001b[0m \u001b[0msignaled\u001b[0m\u001b[0;34m\u001b[0m\u001b[0m\n\u001b[1;32m    553\u001b[0m \u001b[0;34m\u001b[0m\u001b[0m\n",
      "\u001b[0;32m~/anaconda3/lib/python3.6/threading.py\u001b[0m in \u001b[0;36mwait\u001b[0;34m(self, timeout)\u001b[0m\n\u001b[1;32m    293\u001b[0m         \u001b[0;32mtry\u001b[0m\u001b[0;34m:\u001b[0m    \u001b[0;31m# restore state no matter what (e.g., KeyboardInterrupt)\u001b[0m\u001b[0;34m\u001b[0m\u001b[0m\n\u001b[1;32m    294\u001b[0m             \u001b[0;32mif\u001b[0m \u001b[0mtimeout\u001b[0m \u001b[0;32mis\u001b[0m \u001b[0;32mNone\u001b[0m\u001b[0;34m:\u001b[0m\u001b[0;34m\u001b[0m\u001b[0m\n\u001b[0;32m--> 295\u001b[0;31m                 \u001b[0mwaiter\u001b[0m\u001b[0;34m.\u001b[0m\u001b[0macquire\u001b[0m\u001b[0;34m(\u001b[0m\u001b[0;34m)\u001b[0m\u001b[0;34m\u001b[0m\u001b[0m\n\u001b[0m\u001b[1;32m    296\u001b[0m                 \u001b[0mgotit\u001b[0m \u001b[0;34m=\u001b[0m \u001b[0;32mTrue\u001b[0m\u001b[0;34m\u001b[0m\u001b[0m\n\u001b[1;32m    297\u001b[0m             \u001b[0;32melse\u001b[0m\u001b[0;34m:\u001b[0m\u001b[0;34m\u001b[0m\u001b[0m\n",
      "\u001b[0;31mKeyboardInterrupt\u001b[0m: "
     ]
    },
    {
     "name": "stdout",
     "output_type": "stream",
     "text": [
      "\n",
      "data loading time:  2.1284629999999964 \n",
      "\n"
     ]
    }
   ],
   "source": [
    "history = model.fit_generator(train_generator, \n",
    "                              epochs=epochs,\n",
    "                              validation_data=val_generator,\n",
    "                              verbose=1)"
   ]
  },
  {
   "cell_type": "code",
   "execution_count": null,
   "metadata": {},
   "outputs": [],
   "source": [
    "scores = model.evaluate_generator(test_generator, verbose=1)\n",
    "print('Test loss:', scores[0])\n",
    "print('Test accuracy:', scores[1])"
   ]
  },
  {
   "cell_type": "code",
   "execution_count": null,
   "metadata": {},
   "outputs": [],
   "source": [
    "# Serialize the model to json\n",
    "model_json = model.to_json()\n",
    "with open(os.path.join(basedir, \"results/EEG_TUH_spectrogram_CNN_model.json\"), \"w\") as json_file:\n",
    "    json_file.write(model_json)\n",
    "#Serialize weights to HDF5\n",
    "model.save_weights(os.path.join(basedir, \"results/EEG_TUH_spectrogram_CNN_weights.h5\"))\n",
    "# save history\n",
    "with open(os.path.join(basedir, 'results/EEG_TUH_spectrogram_history.json'), 'w') as f:\n",
    "    json.dump(history.history, f)"
   ]
  },
  {
   "cell_type": "markdown",
   "metadata": {},
   "source": [
    "### Confusion matrix"
   ]
  },
  {
   "cell_type": "code",
   "execution_count": null,
   "metadata": {
    "deletable": false,
    "editable": false
   },
   "outputs": [],
   "source": [
    "# Calulate the prediction\n",
    "y_test = df_test['Class']\n",
    "Y_pred = model.predict_generator(test_generator, verbose=1)\n",
    "y_pred = np.argmax(Y_pred, axis=1) # convert one-hot into indices\n",
    "cm = confusion_matrix(y_test, y_pred)\n",
    "\n",
    "# Visualizing the confusion matrix\n",
    "df_cm = pd.DataFrame(cm, range(3), range(3))\n",
    "plt.figure(figsize=(3,3))\n",
    "sns.set(font_scale=1.4) # for label size\n",
    "sns.heatmap(df_cm, annot=True, annot_kws={'size':12}) # font size\n",
    "plt.show()"
   ]
  }
 ],
 "metadata": {
  "kernelspec": {
   "display_name": "Python 3",
   "language": "python",
   "name": "python3"
  },
  "language_info": {
   "codemirror_mode": {
    "name": "ipython",
    "version": 3
   },
   "file_extension": ".py",
   "mimetype": "text/x-python",
   "name": "python",
   "nbconvert_exporter": "python",
   "pygments_lexer": "ipython3",
   "version": "3.6.5"
  },
  "toc": {
   "base_numbering": 1,
   "nav_menu": {},
   "number_sections": false,
   "sideBar": true,
   "skip_h1_title": false,
   "title_cell": "Table of Contents",
   "title_sidebar": "Contents",
   "toc_cell": false,
   "toc_position": {},
   "toc_section_display": true,
   "toc_window_display": true
  },
  "varInspector": {
   "cols": {
    "lenName": 16,
    "lenType": 16,
    "lenVar": 40
   },
   "kernels_config": {
    "python": {
     "delete_cmd_postfix": "",
     "delete_cmd_prefix": "del ",
     "library": "var_list.py",
     "varRefreshCmd": "print(var_dic_list())"
    },
    "r": {
     "delete_cmd_postfix": ") ",
     "delete_cmd_prefix": "rm(",
     "library": "var_list.r",
     "varRefreshCmd": "cat(var_dic_list()) "
    }
   },
   "types_to_exclude": [
    "module",
    "function",
    "builtin_function_or_method",
    "instance",
    "_Feature"
   ],
   "window_display": false
  }
 },
 "nbformat": 4,
 "nbformat_minor": 2
}
